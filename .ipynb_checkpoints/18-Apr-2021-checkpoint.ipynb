{
 "cells": [
  {
   "cell_type": "markdown",
   "metadata": {},
   "source": [
    "### Packages and Modules"
   ]
  },
  {
   "cell_type": "markdown",
   "metadata": {},
   "source": [
    "* **Package in Python**\n",
    "* Collection of Modules(Folder)\n",
    "* **Modules in Python**\n",
    "* Python files contains functions,objects and classes\n",
    "* Accces using import\n",
    "* **Packages**\n",
    "* ***Built in***\n",
    "      1.panda\n",
    "      2.numpy\n",
    "      3.maplot lib\n",
    "      4.regualr expression\n",
    "* ***User Defined***\n",
    "* Define dfor our purpose"
   ]
  },
  {
   "cell_type": "code",
   "execution_count": 2,
   "metadata": {},
   "outputs": [
    {
     "name": "stdout",
     "output_type": "stream",
     "text": [
      "['__doc__', '__loader__', '__name__', '__package__', '__spec__', 'acos', 'acosh', 'asin', 'asinh', 'atan', 'atan2', 'atanh', 'ceil', 'comb', 'copysign', 'cos', 'cosh', 'degrees', 'dist', 'e', 'erf', 'erfc', 'exp', 'expm1', 'fabs', 'factorial', 'floor', 'fmod', 'frexp', 'fsum', 'gamma', 'gcd', 'hypot', 'inf', 'isclose', 'isfinite', 'isinf', 'isnan', 'isqrt', 'ldexp', 'lgamma', 'log', 'log10', 'log1p', 'log2', 'modf', 'nan', 'perm', 'pi', 'pow', 'prod', 'radians', 'remainder', 'sin', 'sinh', 'sqrt', 'tan', 'tanh', 'tau', 'trunc']\n"
     ]
    }
   ],
   "source": [
    "import math\n",
    "print(dir(math))"
   ]
  },
  {
   "cell_type": "code",
   "execution_count": 20,
   "metadata": {},
   "outputs": [
    {
     "name": "stdout",
     "output_type": "stream",
     "text": [
      "120\n",
      "1.7320508075688772\n",
      "4.0\n",
      "20.085536923187668\n",
      "479001600\n",
      "12\n",
      "81377.39570642986\n"
     ]
    }
   ],
   "source": [
    "import math\n",
    "print(math.factorial(5))\n",
    "print(math.sqrt(3))\n",
    "print(math.pow(2,2))\n",
    "print(math.exp(3))\n",
    "print(math.perm(12))\n",
    "print(math.gcd(12,24))\n",
    "print(math.sinh(12))"
   ]
  },
  {
   "cell_type": "code",
   "execution_count": 14,
   "metadata": {},
   "outputs": [
    {
     "name": "stdout",
     "output_type": "stream",
     "text": [
      "['BPF', 'LOG4', 'NV_MAGICCONST', 'RECIP_BPF', 'Random', 'SG_MAGICCONST', 'SystemRandom', 'TWOPI', '_Sequence', '_Set', '__all__', '__builtins__', '__cached__', '__doc__', '__file__', '__loader__', '__name__', '__package__', '__spec__', '_accumulate', '_acos', '_bisect', '_ceil', '_cos', '_e', '_exp', '_inst', '_log', '_os', '_pi', '_random', '_repeat', '_sha512', '_sin', '_sqrt', '_test', '_test_generator', '_urandom', '_warn', 'betavariate', 'choice', 'choices', 'expovariate', 'gammavariate', 'gauss', 'getrandbits', 'getstate', 'lognormvariate', 'normalvariate', 'paretovariate', 'randint', 'random', 'randrange', 'sample', 'seed', 'setstate', 'shuffle', 'triangular', 'uniform', 'vonmisesvariate', 'weibullvariate']\n"
     ]
    }
   ],
   "source": [
    "import random\n",
    "print(dir(random))"
   ]
  },
  {
   "cell_type": "code",
   "execution_count": 34,
   "metadata": {},
   "outputs": [
    {
     "name": "stdout",
     "output_type": "stream",
     "text": [
      "65\n",
      "36\n",
      "m\n",
      "None\n"
     ]
    }
   ],
   "source": [
    "import random\n",
    "print(random.randint(1,100))\n",
    "print(random.randrange(1,100))\n",
    "s=\"Ramya\"\n",
    "print(random.choice(s))\n",
    "l=s.split('a')\n",
    "print(random.shuffle(l))"
   ]
  },
  {
   "cell_type": "code",
   "execution_count": 33,
   "metadata": {},
   "outputs": [
    {
     "name": "stdout",
     "output_type": "stream",
     "text": [
      "['Calendar', 'EPOCH', 'FRIDAY', 'February', 'HTMLCalendar', 'IllegalMonthError', 'IllegalWeekdayError', 'January', 'LocaleHTMLCalendar', 'LocaleTextCalendar', 'MONDAY', 'SATURDAY', 'SUNDAY', 'THURSDAY', 'TUESDAY', 'TextCalendar', 'WEDNESDAY', '_EPOCH_ORD', '__all__', '__builtins__', '__cached__', '__doc__', '__file__', '__loader__', '__name__', '__package__', '__spec__', '_colwidth', '_locale', '_localized_day', '_localized_month', '_monthlen', '_nextmonth', '_prevmonth', '_spacing', 'c', 'calendar', 'datetime', 'day_abbr', 'day_name', 'different_locale', 'error', 'firstweekday', 'format', 'formatstring', 'isleap', 'leapdays', 'main', 'mdays', 'month', 'month_abbr', 'month_name', 'monthcalendar', 'monthrange', 'prcal', 'prmonth', 'prweek', 'repeat', 'setfirstweekday', 'sys', 'timegm', 'week', 'weekday', 'weekheader']\n"
     ]
    }
   ],
   "source": [
    "import calendar\n",
    "print(dir(calendar))"
   ]
  },
  {
   "cell_type": "code",
   "execution_count": 36,
   "metadata": {},
   "outputs": [
    {
     "name": "stdout",
     "output_type": "stream",
     "text": [
      "                                  2001\n",
      "\n",
      "      January                   February                   March\n",
      "Mo Tu We Th Fr Sa Su      Mo Tu We Th Fr Sa Su      Mo Tu We Th Fr Sa Su\n",
      " 1  2  3  4  5  6  7                1  2  3  4                1  2  3  4\n",
      " 8  9 10 11 12 13 14       5  6  7  8  9 10 11       5  6  7  8  9 10 11\n",
      "15 16 17 18 19 20 21      12 13 14 15 16 17 18      12 13 14 15 16 17 18\n",
      "22 23 24 25 26 27 28      19 20 21 22 23 24 25      19 20 21 22 23 24 25\n",
      "29 30 31                  26 27 28                  26 27 28 29 30 31\n",
      "\n",
      "       April                      May                       June\n",
      "Mo Tu We Th Fr Sa Su      Mo Tu We Th Fr Sa Su      Mo Tu We Th Fr Sa Su\n",
      "                   1          1  2  3  4  5  6                   1  2  3\n",
      " 2  3  4  5  6  7  8       7  8  9 10 11 12 13       4  5  6  7  8  9 10\n",
      " 9 10 11 12 13 14 15      14 15 16 17 18 19 20      11 12 13 14 15 16 17\n",
      "16 17 18 19 20 21 22      21 22 23 24 25 26 27      18 19 20 21 22 23 24\n",
      "23 24 25 26 27 28 29      28 29 30 31               25 26 27 28 29 30\n",
      "30\n",
      "\n",
      "        July                     August                  September\n",
      "Mo Tu We Th Fr Sa Su      Mo Tu We Th Fr Sa Su      Mo Tu We Th Fr Sa Su\n",
      "                   1             1  2  3  4  5                      1  2\n",
      " 2  3  4  5  6  7  8       6  7  8  9 10 11 12       3  4  5  6  7  8  9\n",
      " 9 10 11 12 13 14 15      13 14 15 16 17 18 19      10 11 12 13 14 15 16\n",
      "16 17 18 19 20 21 22      20 21 22 23 24 25 26      17 18 19 20 21 22 23\n",
      "23 24 25 26 27 28 29      27 28 29 30 31            24 25 26 27 28 29 30\n",
      "30 31\n",
      "\n",
      "      October                   November                  December\n",
      "Mo Tu We Th Fr Sa Su      Mo Tu We Th Fr Sa Su      Mo Tu We Th Fr Sa Su\n",
      " 1  2  3  4  5  6  7                1  2  3  4                      1  2\n",
      " 8  9 10 11 12 13 14       5  6  7  8  9 10 11       3  4  5  6  7  8  9\n",
      "15 16 17 18 19 20 21      12 13 14 15 16 17 18      10 11 12 13 14 15 16\n",
      "22 23 24 25 26 27 28      19 20 21 22 23 24 25      17 18 19 20 21 22 23\n",
      "29 30 31                  26 27 28 29 30            24 25 26 27 28 29 30\n",
      "                                                    31\n",
      "\n"
     ]
    }
   ],
   "source": [
    "import calendar\n",
    "print(calendar.calendar(2001))"
   ]
  },
  {
   "cell_type": "code",
   "execution_count": 6,
   "metadata": {},
   "outputs": [
    {
     "name": "stdout",
     "output_type": "stream",
     "text": [
      "6\n",
      "False\n"
     ]
    }
   ],
   "source": [
    "import calendar\n",
    "print(calendar.leapdays(2000,2021))\n",
    "print(calendar.isleap(2021))\n",
    "print()"
   ]
  },
  {
   "cell_type": "code",
   "execution_count": 23,
   "metadata": {},
   "outputs": [
    {
     "name": "stdout",
     "output_type": "stream",
     "text": [
      "[1, 2]\n"
     ]
    }
   ],
   "source": [
    "from package.module import duplicate\n",
    "l=[1,1,2,2]\n",
    "duplicate(l)    "
   ]
  },
  {
   "cell_type": "code",
   "execution_count": 22,
   "metadata": {},
   "outputs": [
    {
     "name": "stdout",
     "output_type": "stream",
     "text": [
      "[4, 5]\n"
     ]
    }
   ],
   "source": [
    "from package.module import unique\n",
    "l=[1,1,2,2,3,3,4,5]\n",
    "unique(l)"
   ]
  },
  {
   "cell_type": "markdown",
   "metadata": {},
   "source": [
    "### Regular Expressions\n",
    "* Builtin package in python\n",
    "* Used to match specific patterns\n",
    "* 3 functions\n",
    "       1.match()--->matches specific attern\n",
    "       2.search()--->returns first occurence while searching a charecter or substring\n",
    "       3.findall()---.returns all possible occurences"
   ]
  },
  {
   "cell_type": "code",
   "execution_count": 29,
   "metadata": {},
   "outputs": [
    {
     "name": "stdout",
     "output_type": "stream",
     "text": [
      "<re.Match object; span=(0, 1), match='p'>\n",
      "<re.Match object; span=(1, 2), match='r'>\n",
      "None\n"
     ]
    }
   ],
   "source": [
    "import re\n",
    "print(re.search('p','python'))\n",
    "print(re.search('r','programming'))\n",
    "print(re.search('f','python'))"
   ]
  },
  {
   "cell_type": "code",
   "execution_count": 35,
   "metadata": {},
   "outputs": [
    {
     "data": {
      "text/plain": [
       "[]"
      ]
     },
     "execution_count": 35,
     "metadata": {},
     "output_type": "execute_result"
    }
   ],
   "source": [
    "import re\n",
    "re.findall('mn','python programming')"
   ]
  },
  {
   "cell_type": "markdown",
   "metadata": {},
   "source": [
    "### Some Special Symbols\n",
    "* ^--->matches starting charecter\n",
    "* $--->matches ending charecter\n",
    "* [0-9]--->numbers\n",
    "* [a-z]--->lower case letters\n",
    "* [A-Z]--->capital letters\n",
    "* [a-zA-Z]--->both cases\n",
    "* [0-9]{4}--->accepts only 4 digit numbers\n",
    "* . --->matxhes any charecter\n",
    "* [@]--->matches special charecter\n",
    "* +--->matches more occurences"
   ]
  },
  {
   "cell_type": "code",
   "execution_count": 38,
   "metadata": {},
   "outputs": [
    {
     "name": "stdout",
     "output_type": "stream",
     "text": [
      "['28', '17']\n",
      "['2', '8', '1', '7']\n"
     ]
    }
   ],
   "source": [
    "#check the phonenumber is valid or not\n",
    "k='my favorite numbers are 28 and 17'\n",
    "import re\n",
    "print(re.findall('[0-9]+',k))\n",
    "print(re.findall('[0-9]',k))"
   ]
  },
  {
   "cell_type": "markdown",
   "metadata": {},
   "source": [
    "###### phone number validation(example)\n",
    "* should contain 10 digits\n",
    "* shuld start with 6,7,8,9\n",
    "* starts with +91"
   ]
  },
  {
   "cell_type": "code",
   "execution_count": 42,
   "metadata": {},
   "outputs": [
    {
     "name": "stdout",
     "output_type": "stream",
     "text": [
      "Enter mobile number:7729926330\n",
      "valid number\n"
     ]
    }
   ],
   "source": [
    "phnnum=input('Enter mobile number:')\n",
    "import re\n",
    "pattern='^[6-9][0-9]{9}$'\n",
    "if(re.match(pattern,phnnum)):\n",
    "    print(\"valid number\")\n",
    "else:\n",
    "    print(\"invalid number\")"
   ]
  },
  {
   "cell_type": "code",
   "execution_count": 49,
   "metadata": {},
   "outputs": [
    {
     "name": "stdout",
     "output_type": "stream",
     "text": [
      "Enter mobile number:+916304307785\n",
      "valid number\n"
     ]
    }
   ],
   "source": [
    "phnnum=input('Enter mobile number:')\n",
    "import re\n",
    "pattern='^[6-9][0-9]{9}$|[+][9][1][6-9][0-9]{9}$'\n",
    "if(re.match(pattern,phnnum)):\n",
    "    print(\"valid number\")\n",
    "else:\n",
    "    print(\"invalid number\")"
   ]
  },
  {
   "cell_type": "markdown",
   "metadata": {},
   "source": [
    "###### Email validation\n",
    "* username@domain.extension\n",
    "* username speciifcations\n",
    "         1.length min 6 max 20\n",
    "         2.accepts underscore and dot\n",
    "         3.strats with numbers or alphabets\n",
    "* domain\n",
    "         1.length min 5 max 10\n",
    "         2.contains only alphabets\n",
    "* extension\n",
    "         1.min 3\n",
    "         2.contains only alphabets"
   ]
  },
  {
   "cell_type": "code",
   "execution_count": 57,
   "metadata": {},
   "outputs": [
    {
     "name": "stdout",
     "output_type": "stream",
     "text": [
      "​ramyayarru19@gmail.com\n",
      "inavlid\n"
     ]
    }
   ],
   "source": [
    "mail=input()\n",
    "import re\n",
    "pattern='^[0-9a-z][0-9a-z_.]{5,20}[@][a-z]{5,10}[.][a-z]{2,5}$'\n",
    "if(re.match(pattern,mail)):\n",
    "    print(\"valid\")\n",
    "else:\n",
    "    print(\"inavlid\")\n"
   ]
  },
  {
   "cell_type": "markdown",
   "metadata": {},
   "source": [
    "### File Handling in Python\n",
    "* used to store information\n",
    "* ***open file***\n",
    "         1.open(filepath,mode)\n",
    "         2.with open()\n",
    "* ***operations***\n",
    "          1.read\n",
    "          2.write\n",
    "          3.append\n",
    "* ***close file***\n",
    "      "
   ]
  },
  {
   "cell_type": "code",
   "execution_count": 5,
   "metadata": {},
   "outputs": [
    {
     "name": "stdout",
     "output_type": "stream",
     "text": [
      "File for demo purpose\n",
      "\n"
     ]
    }
   ],
   "source": [
    "#using open()\n",
    "f=open('datafiles/demo.txt')\n",
    "fh=f.read()\n",
    "print(fh)"
   ]
  },
  {
   "cell_type": "code",
   "execution_count": 11,
   "metadata": {},
   "outputs": [
    {
     "name": "stdout",
     "output_type": "stream",
     "text": [
      "9\n"
     ]
    }
   ],
   "source": [
    "f=open('datafiles/demo.txt','w')\n",
    "data=f.write('hiiii....')\n",
    "f.close()\n",
    "print(data)"
   ]
  },
  {
   "cell_type": "code",
   "execution_count": 12,
   "metadata": {},
   "outputs": [
    {
     "name": "stdout",
     "output_type": "stream",
     "text": [
      "hiiii....\n"
     ]
    }
   ],
   "source": [
    "with open('datafiles/demo.txt') as info:\n",
    "    fh=info.read()\n",
    "    print(fh)"
   ]
  },
  {
   "cell_type": "code",
   "execution_count": 13,
   "metadata": {},
   "outputs": [
    {
     "ename": "FileNotFoundError",
     "evalue": "[Errno 2] No such file or directory: 'datafiles/demo1.txt'",
     "output_type": "error",
     "traceback": [
      "\u001b[1;31m---------------------------------------------------------------------------\u001b[0m",
      "\u001b[1;31mFileNotFoundError\u001b[0m                         Traceback (most recent call last)",
      "\u001b[1;32m<ipython-input-13-b48c6f4d99b5>\u001b[0m in \u001b[0;36m<module>\u001b[1;34m\u001b[0m\n\u001b[1;32m----> 1\u001b[1;33m \u001b[1;32mwith\u001b[0m \u001b[0mopen\u001b[0m\u001b[1;33m(\u001b[0m\u001b[1;34m'datafiles/demo1.txt'\u001b[0m\u001b[1;33m)\u001b[0m \u001b[1;32mas\u001b[0m \u001b[0minfo\u001b[0m\u001b[1;33m:\u001b[0m\u001b[1;33m\u001b[0m\u001b[1;33m\u001b[0m\u001b[0m\n\u001b[0m\u001b[0;32m      2\u001b[0m     \u001b[0mfh\u001b[0m\u001b[1;33m=\u001b[0m\u001b[0minfo\u001b[0m\u001b[1;33m.\u001b[0m\u001b[0mread\u001b[0m\u001b[1;33m(\u001b[0m\u001b[1;33m)\u001b[0m\u001b[1;33m\u001b[0m\u001b[1;33m\u001b[0m\u001b[0m\n\u001b[0;32m      3\u001b[0m     \u001b[0mprint\u001b[0m\u001b[1;33m(\u001b[0m\u001b[0mfh\u001b[0m\u001b[1;33m)\u001b[0m\u001b[1;33m\u001b[0m\u001b[1;33m\u001b[0m\u001b[0m\n",
      "\u001b[1;31mFileNotFoundError\u001b[0m: [Errno 2] No such file or directory: 'datafiles/demo1.txt'"
     ]
    }
   ],
   "source": [
    "with open('datafiles/demo1.txt') as info:   #creates error\n",
    "    fh=info.read()\n",
    "    print(fh)"
   ]
  },
  {
   "cell_type": "code",
   "execution_count": 21,
   "metadata": {},
   "outputs": [
    {
     "name": "stdout",
     "output_type": "stream",
     "text": [
      "This is vignan.\n",
      "vignan's national animal is monkey.\n",
      "kavya is monkey.\n",
      "monkey is kavya \n",
      "monkey=kavya\n",
      "so vignans national animal is kavya\n"
     ]
    }
   ],
   "source": [
    "f=open('datafiles/new_file.txt')\n",
    "fh=f.read()\n",
    "print(fh)"
   ]
  },
  {
   "cell_type": "code",
   "execution_count": 25,
   "metadata": {},
   "outputs": [
    {
     "name": "stdout",
     "output_type": "stream",
     "text": [
      "hiiiiiiii\n"
     ]
    }
   ],
   "source": [
    "with open('datafiles/demo1.txt','w') as info:\n",
    "    fh=info.write(\"hiiiiiiii\")\n",
    "with open('datafiles/demo1.txt','r') as info:\n",
    "    fh=info.read()\n",
    "    print(fh)"
   ]
  },
  {
   "cell_type": "code",
   "execution_count": 24,
   "metadata": {},
   "outputs": [
    {
     "name": "stdout",
     "output_type": "stream",
     "text": [
      "34\n"
     ]
    }
   ],
   "source": [
    "with open('datafiles/new_file1.txt') as info:\n",
    "    fh=info.read()\n",
    "    count=0\n",
    "    for i in fh:\n",
    "        if i!=\" \":\n",
    "            count=count+1\n",
    "            \n",
    "print(count)"
   ]
  },
  {
   "cell_type": "code",
   "execution_count": 28,
   "metadata": {},
   "outputs": [
    {
     "name": "stdout",
     "output_type": "stream",
     "text": [
      "5\n"
     ]
    }
   ],
   "source": [
    "with open('datafiles/new_file1.txt') as info:\n",
    "    fh=info.read()\n",
    "l=fh.split()\n",
    "print(len(l))"
   ]
  },
  {
   "cell_type": "code",
   "execution_count": 37,
   "metadata": {},
   "outputs": [
    {
     "name": "stdout",
     "output_type": "stream",
     "text": [
      "Welcome to python programming workshop hi this is vignan's lara "
     ]
    }
   ],
   "source": [
    "with open('datafiles/new_file1.txt') as info:\n",
    "    fh=info.read()\n",
    "l=fh.split()\n",
    "l1=[]\n",
    "for i in l:\n",
    "    if(i not in l1):\n",
    "        l1.append(i)\n",
    "for i in l1:\n",
    "    print(i,end=\" \")\n"
   ]
  },
  {
   "cell_type": "code",
   "execution_count": 42,
   "metadata": {},
   "outputs": [
    {
     "name": "stdout",
     "output_type": "stream",
     "text": [
      "{'e': 3, 'n': 3, 'g': 2, 'i': 2, 'r': 1}\n"
     ]
    }
   ],
   "source": [
    "with open('datafiles/demo2.txt','w') as info:\n",
    "    fh=info.write(\"engineering\")\n",
    "with open('datafiles/demo2.txt','r') as info:\n",
    "    fh=info.read()\n",
    "d1={}\n",
    "for i in fh:\n",
    "    d1[i]=fh.count(i)\n",
    "print(d1)"
   ]
  },
  {
   "cell_type": "code",
   "execution_count": 45,
   "metadata": {},
   "outputs": [
    {
     "name": "stdout",
     "output_type": "stream",
     "text": [
      "enter student count:5\n",
      "enter lower count:12\n",
      "enter upper count:23\n"
     ]
    }
   ],
   "source": [
    "#file data proccesing\n",
    "from random import randint\n",
    "def marksgen(n,lb,ub):\n",
    "    with open('datafiles/marks.txt','w') as info:\n",
    "        for i in range(0,n):\n",
    "            r=randint(lb,ub)\n",
    "            info.write(str(r)+'\\n')\n",
    "    return\n",
    "n=int(input(\"enter student count:\"))\n",
    "lb=int(input(\"enter lower count:\"))\n",
    "ub=int(input(\"enter upper count:\"))\n",
    "marksgen(n,lb,ub)"
   ]
  },
  {
   "cell_type": "code",
   "execution_count": 48,
   "metadata": {},
   "outputs": [
    {
     "name": "stdout",
     "output_type": "stream",
     "text": [
      "13\n",
      "13\n",
      "16\n",
      "20\n",
      "21\n",
      "\n"
     ]
    }
   ],
   "source": [
    "f=open('datafiles/marks.txt')\n",
    "fh=f.read()\n",
    "print(fh)"
   ]
  },
  {
   "cell_type": "code",
   "execution_count": null,
   "metadata": {},
   "outputs": [],
   "source": []
  }
 ],
 "metadata": {
  "kernelspec": {
   "display_name": "Python 3",
   "language": "python",
   "name": "python3"
  },
  "language_info": {
   "codemirror_mode": {
    "name": "ipython",
    "version": 3
   },
   "file_extension": ".py",
   "mimetype": "text/x-python",
   "name": "python",
   "nbconvert_exporter": "python",
   "pygments_lexer": "ipython3",
   "version": "3.8.5"
  }
 },
 "nbformat": 4,
 "nbformat_minor": 4
}
