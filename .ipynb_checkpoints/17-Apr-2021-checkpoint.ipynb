{
 "cells": [
  {
   "cell_type": "markdown",
   "metadata": {},
   "source": [
    "### Data Stuctures\n",
    "* Strings--->\" \" or ' '\n",
    "* Lists--->[]\n",
    "* Tuple--->()\n",
    "* Dictionary--->{Key:Value}\n",
    "* Sets--->{}"
   ]
  },
  {
   "cell_type": "code",
   "execution_count": 5,
   "metadata": {},
   "outputs": [
    {
     "data": {
      "text/plain": [
       "str"
      ]
     },
     "execution_count": 5,
     "metadata": {},
     "output_type": "execute_result"
    }
   ],
   "source": [
    "a=\" \"\n",
    "type(a)"
   ]
  },
  {
   "cell_type": "code",
   "execution_count": 6,
   "metadata": {},
   "outputs": [
    {
     "data": {
      "text/plain": [
       "list"
      ]
     },
     "execution_count": 6,
     "metadata": {},
     "output_type": "execute_result"
    }
   ],
   "source": [
    "a=[]\n",
    "type(a)"
   ]
  },
  {
   "cell_type": "code",
   "execution_count": 7,
   "metadata": {},
   "outputs": [
    {
     "data": {
      "text/plain": [
       "tuple"
      ]
     },
     "execution_count": 7,
     "metadata": {},
     "output_type": "execute_result"
    }
   ],
   "source": [
    "a=()\n",
    "type(a)"
   ]
  },
  {
   "cell_type": "code",
   "execution_count": 8,
   "metadata": {},
   "outputs": [
    {
     "data": {
      "text/plain": [
       "dict"
      ]
     },
     "execution_count": 8,
     "metadata": {},
     "output_type": "execute_result"
    }
   ],
   "source": [
    "a={}\n",
    "type(a)"
   ]
  },
  {
   "cell_type": "markdown",
   "metadata": {},
   "source": [
    "### Strings in Python\n",
    "* Collection of data/Information with\" \" or ' '\n",
    "* **Accesing Indexing values**\n",
    "    * Forward Index(Left to Right(starts from 0 to n-1))\n",
    "    * Backward Index(Right to Left(starts from -1))\n",
    "* **Delete a String**\n",
    "    * using **del** Keyword\n",
    "* Slicing \n",
    "    * Single Slicing--->[ : ]\n",
    "    * Double Slicing--->[ : : ]"
   ]
  },
  {
   "cell_type": "code",
   "execution_count": 10,
   "metadata": {},
   "outputs": [
    {
     "name": "stdout",
     "output_type": "stream",
     "text": [
      "Welcome\n",
      "<class 'str'>\n"
     ]
    }
   ],
   "source": [
    "s=\"Welcome\"\n",
    "print(s)\n",
    "print(type(s))"
   ]
  },
  {
   "cell_type": "markdown",
   "metadata": {},
   "source": [
    "##### Forward Index(0 to n-1)"
   ]
  },
  {
   "cell_type": "code",
   "execution_count": 11,
   "metadata": {},
   "outputs": [
    {
     "name": "stdout",
     "output_type": "stream",
     "text": [
      "W\n",
      "e\n",
      "l\n",
      "c\n",
      "o\n",
      "m\n",
      "e\n"
     ]
    }
   ],
   "source": [
    "s=\"Welcome\"\n",
    "print(s[0])\n",
    "print(s[1])\n",
    "print(s[2])\n",
    "print(s[3])\n",
    "print(s[4])\n",
    "print(s[5])\n",
    "print(s[6])"
   ]
  },
  {
   "cell_type": "markdown",
   "metadata": {},
   "source": [
    "##### Backward Index(-1)"
   ]
  },
  {
   "cell_type": "code",
   "execution_count": 12,
   "metadata": {},
   "outputs": [
    {
     "name": "stdout",
     "output_type": "stream",
     "text": [
      "e\n",
      "m\n",
      "o\n",
      "c\n",
      "l\n",
      "e\n",
      "W\n"
     ]
    }
   ],
   "source": [
    "s=\"Welcome\"\n",
    "print(s[-1])\n",
    "print(s[-2])\n",
    "print(s[-3])\n",
    "print(s[-4])\n",
    "print(s[-5])\n",
    "print(s[-6])\n",
    "print(s[-7])"
   ]
  },
  {
   "cell_type": "code",
   "execution_count": 13,
   "metadata": {},
   "outputs": [
    {
     "name": "stdout",
     "output_type": "stream",
     "text": [
      "t\n"
     ]
    }
   ],
   "source": [
    "s=\"Welcome Python Programing\"\n",
    "print(s[10])"
   ]
  },
  {
   "cell_type": "code",
   "execution_count": 14,
   "metadata": {},
   "outputs": [
    {
     "ename": "NameError",
     "evalue": "name 's' is not defined",
     "output_type": "error",
     "traceback": [
      "\u001b[1;31m---------------------------------------------------------------------------\u001b[0m",
      "\u001b[1;31mNameError\u001b[0m                                 Traceback (most recent call last)",
      "\u001b[1;32m<ipython-input-14-5f4e0c55f1aa>\u001b[0m in \u001b[0;36m<module>\u001b[1;34m\u001b[0m\n\u001b[0;32m      2\u001b[0m \u001b[0ms\u001b[0m\u001b[1;33m=\u001b[0m\u001b[1;34m\"python\"\u001b[0m\u001b[1;33m\u001b[0m\u001b[1;33m\u001b[0m\u001b[0m\n\u001b[0;32m      3\u001b[0m \u001b[1;32mdel\u001b[0m \u001b[0ms\u001b[0m\u001b[1;33m\u001b[0m\u001b[1;33m\u001b[0m\u001b[0m\n\u001b[1;32m----> 4\u001b[1;33m \u001b[0mprint\u001b[0m\u001b[1;33m(\u001b[0m\u001b[0ms\u001b[0m\u001b[1;33m)\u001b[0m\u001b[1;33m\u001b[0m\u001b[1;33m\u001b[0m\u001b[0m\n\u001b[0m",
      "\u001b[1;31mNameError\u001b[0m: name 's' is not defined"
     ]
    }
   ],
   "source": [
    "#Deleting the entire string\n",
    "s=\"python\"\n",
    "del s\n",
    "print(s)"
   ]
  },
  {
   "cell_type": "code",
   "execution_count": 27,
   "metadata": {},
   "outputs": [
    {
     "name": "stdout",
     "output_type": "stream",
     "text": [
      "W\n",
      "elcome\n",
      "emocleW\n"
     ]
    }
   ],
   "source": [
    "s='Welcome'\n",
    "print(s[:1])\n",
    "print(s[1:])\n",
    "print(s[::-1])"
   ]
  },
  {
   "cell_type": "code",
   "execution_count": 30,
   "metadata": {},
   "outputs": [
    {
     "name": "stdout",
     "output_type": "stream",
     "text": [
      "welcome\n",
      "not a palindrome\n"
     ]
    }
   ],
   "source": [
    "#program to check given string is palindrome or not\n",
    "s=input()\n",
    "s1=s[::-1]\n",
    "if(s==s1):\n",
    "    print(\"palindrome\")\n",
    "else:\n",
    "    print(\"not a palindrome\")"
   ]
  },
  {
   "cell_type": "code",
   "execution_count": 31,
   "metadata": {},
   "outputs": [
    {
     "name": "stdout",
     "output_type": "stream",
     "text": [
      "['__add__', '__class__', '__contains__', '__delattr__', '__dir__', '__doc__', '__eq__', '__format__', '__ge__', '__getattribute__', '__getitem__', '__getnewargs__', '__gt__', '__hash__', '__init__', '__init_subclass__', '__iter__', '__le__', '__len__', '__lt__', '__mod__', '__mul__', '__ne__', '__new__', '__reduce__', '__reduce_ex__', '__repr__', '__rmod__', '__rmul__', '__setattr__', '__sizeof__', '__str__', '__subclasshook__', 'capitalize', 'casefold', 'center', 'count', 'encode', 'endswith', 'expandtabs', 'find', 'format', 'format_map', 'index', 'isalnum', 'isalpha', 'isascii', 'isdecimal', 'isdigit', 'isidentifier', 'islower', 'isnumeric', 'isprintable', 'isspace', 'istitle', 'isupper', 'join', 'ljust', 'lower', 'lstrip', 'maketrans', 'partition', 'replace', 'rfind', 'rindex', 'rjust', 'rpartition', 'rsplit', 'rstrip', 'split', 'splitlines', 'startswith', 'strip', 'swapcase', 'title', 'translate', 'upper', 'zfill']\n"
     ]
    }
   ],
   "source": [
    "print(dir(str))"
   ]
  },
  {
   "cell_type": "markdown",
   "metadata": {},
   "source": [
    "### Methods in Python"
   ]
  },
  {
   "cell_type": "markdown",
   "metadata": {},
   "source": [
    "* capitalize()--->makes the 0th index of the string capital\n",
    "* title()--->makes the starting letter of every string capital\n",
    "* upper()--->makes every letter in the string capital\n",
    "* lower()--->converts letter every in the string from capital to lower case\n",
    "* casefold()--->converts letter every in the string from capital to lower case \n",
    "* center()--->alligns the string within given size\n",
    "* swapcase()--->swaps lowercase to uppercaes and vice versa\n",
    "* isupper()--->checks whether the letters in string are capital or not and returns false or true(spaces not allowed)\n",
    "* islower()--->checks whether thr letters in string are in loercase or not and return true or false(spaces not allowed)\n",
    "* startswith(char)--->checks whether it starts with given cahrecter and returns true or false\n",
    "* endswith()--->checks whether it ends with given charecter or notand returns true or false\n",
    "* isalpha()--->checks for alphabets and returns true or false\n",
    "* isdigit()--->checks for digits \n",
    "* isspace()--->checks for spaces\n",
    "* encode()--->converts the entire string from class string to class bytes\n",
    "* count(char)--->returns the count of how many times given charecter present in given string\n",
    "* strip()--->removes the spaces\n",
    "    #lstrip()--->removes the spaces left side to the given string\n",
    "    #rstrip()--->removes the spaces right side to the given string\n",
    "* expandtabs(size)--->expands the size of spaces by given size\n",
    "* zfill(size)--->fills zeroes\n",
    "* format()--->\" {} {} \".format(\"str1\",\"str2\")\n",
    "* index(char)--->returns the index of given charecter\n",
    "* rindex(char)--->returns the next index position of charecter\n",
    "* join()--->joins the given charecter in between every charecter of given string\n",
    "* split()--->divides and returns in the form of list\n",
    "* replace()--->replaces one string by another string"
   ]
  },
  {
   "cell_type": "code",
   "execution_count": 32,
   "metadata": {},
   "outputs": [
    {
     "data": {
      "text/plain": [
       "'Python programming'"
      ]
     },
     "execution_count": 32,
     "metadata": {},
     "output_type": "execute_result"
    }
   ],
   "source": [
    "s=\"python programming\"\n",
    "s.capitalize()"
   ]
  },
  {
   "cell_type": "code",
   "execution_count": 37,
   "metadata": {},
   "outputs": [
    {
     "data": {
      "text/plain": [
       "'Python Programming'"
      ]
     },
     "execution_count": 37,
     "metadata": {},
     "output_type": "execute_result"
    }
   ],
   "source": [
    "s=\"python programming\"\n",
    "s.title()"
   ]
  },
  {
   "cell_type": "code",
   "execution_count": 38,
   "metadata": {},
   "outputs": [
    {
     "data": {
      "text/plain": [
       "'PYTHON PROGRAMMING'"
      ]
     },
     "execution_count": 38,
     "metadata": {},
     "output_type": "execute_result"
    }
   ],
   "source": [
    "s=\"python programming\"\n",
    "s.upper()"
   ]
  },
  {
   "cell_type": "code",
   "execution_count": 59,
   "metadata": {},
   "outputs": [
    {
     "data": {
      "text/plain": [
       "'python programming'"
      ]
     },
     "execution_count": 59,
     "metadata": {},
     "output_type": "execute_result"
    }
   ],
   "source": [
    "s=\"PYTHON PROGRAMMING\"\n",
    "s.lower()"
   ]
  },
  {
   "cell_type": "code",
   "execution_count": 39,
   "metadata": {},
   "outputs": [
    {
     "data": {
      "text/plain": [
       "'python programming'"
      ]
     },
     "execution_count": 39,
     "metadata": {},
     "output_type": "execute_result"
    }
   ],
   "source": [
    "s=\"PYTHON PROGRAMMING\"\n",
    "s.casefold()"
   ]
  },
  {
   "cell_type": "code",
   "execution_count": 48,
   "metadata": {},
   "outputs": [
    {
     "data": {
      "text/plain": [
       "'PYTHON PROGRmmMING'"
      ]
     },
     "execution_count": 48,
     "metadata": {},
     "output_type": "execute_result"
    }
   ],
   "source": [
    "s=\"PYTHON PROGRmmMING\"\n",
    "s.center(5)"
   ]
  },
  {
   "cell_type": "code",
   "execution_count": 43,
   "metadata": {},
   "outputs": [
    {
     "data": {
      "text/plain": [
       "'PYTHON pROGRAMMING'"
      ]
     },
     "execution_count": 43,
     "metadata": {},
     "output_type": "execute_result"
    }
   ],
   "source": [
    "s=\"python Programming\"\n",
    "s.swapcase()"
   ]
  },
  {
   "cell_type": "code",
   "execution_count": 45,
   "metadata": {},
   "outputs": [
    {
     "data": {
      "text/plain": [
       "False"
      ]
     },
     "execution_count": 45,
     "metadata": {},
     "output_type": "execute_result"
    }
   ],
   "source": [
    "s=\"python PrOgramming\"\n",
    "s.isupper()"
   ]
  },
  {
   "cell_type": "code",
   "execution_count": 49,
   "metadata": {},
   "outputs": [
    {
     "data": {
      "text/plain": [
       "False"
      ]
     },
     "execution_count": 49,
     "metadata": {},
     "output_type": "execute_result"
    }
   ],
   "source": [
    "s=\"PYTHON PROGRAMMING\"\n",
    "s.islower()"
   ]
  },
  {
   "cell_type": "code",
   "execution_count": 54,
   "metadata": {},
   "outputs": [
    {
     "data": {
      "text/plain": [
       "False"
      ]
     },
     "execution_count": 54,
     "metadata": {},
     "output_type": "execute_result"
    }
   ],
   "source": [
    "s=\"python programming\"\n",
    "s.startswith('a')"
   ]
  },
  {
   "cell_type": "code",
   "execution_count": 55,
   "metadata": {},
   "outputs": [
    {
     "data": {
      "text/plain": [
       "False"
      ]
     },
     "execution_count": 55,
     "metadata": {},
     "output_type": "execute_result"
    }
   ],
   "source": [
    "s=\"PYTHON PROGRAMMING\"\n",
    "s.endswith('s')"
   ]
  },
  {
   "cell_type": "code",
   "execution_count": 56,
   "metadata": {},
   "outputs": [
    {
     "data": {
      "text/plain": [
       "False"
      ]
     },
     "execution_count": 56,
     "metadata": {},
     "output_type": "execute_result"
    }
   ],
   "source": [
    "s=\"PYTHON PROGRAMMING\"\n",
    "s.isalpha()"
   ]
  },
  {
   "cell_type": "code",
   "execution_count": 57,
   "metadata": {},
   "outputs": [
    {
     "data": {
      "text/plain": [
       "False"
      ]
     },
     "execution_count": 57,
     "metadata": {},
     "output_type": "execute_result"
    }
   ],
   "source": [
    "s=\"PYTHON PROGRAMMING6\"\n",
    "s.isdigit()"
   ]
  },
  {
   "cell_type": "code",
   "execution_count": 58,
   "metadata": {},
   "outputs": [
    {
     "data": {
      "text/plain": [
       "True"
      ]
     },
     "execution_count": 58,
     "metadata": {},
     "output_type": "execute_result"
    }
   ],
   "source": [
    "s=\" \"\n",
    "s.isspace()"
   ]
  },
  {
   "cell_type": "code",
   "execution_count": 52,
   "metadata": {},
   "outputs": [
    {
     "name": "stdout",
     "output_type": "stream",
     "text": [
      "<class 'str'>\n",
      "<class 'bytes'>\n"
     ]
    }
   ],
   "source": [
    "s=\"PYTHON PROGRAMMING\"\n",
    "print(type(s))\n",
    "s1=s.encode()\n",
    "print(type(s1))"
   ]
  },
  {
   "cell_type": "code",
   "execution_count": 23,
   "metadata": {},
   "outputs": [
    {
     "name": "stdout",
     "output_type": "stream",
     "text": [
      "RamyaKavyaSheema\n",
      "190224\n"
     ]
    }
   ],
   "source": [
    "s=\"Ramya 19 Kavya 02 Sheema 24\"\n",
    "s1=\"\"\n",
    "s2=\"\"\n",
    "s3=\"\"\n",
    "for i in range(len(s)):\n",
    "    if(s[i].isalpha()):\n",
    "        s1=s1+s[i]\n",
    "    elif(s[i].isdigit()):\n",
    "        s2=s2+s[i]\n",
    "    else:\n",
    "        s3=s3+s[i]\n",
    "print(s1)\n",
    "print(s2)"
   ]
  },
  {
   "cell_type": "code",
   "execution_count": 40,
   "metadata": {},
   "outputs": [
    {
     "name": "stdout",
     "output_type": "stream",
     "text": [
      "RAMYA yarru 192001\n",
      " RAMYAyarru\n",
      " RAMYA 5\n",
      " yarru 5\n",
      "    2\n",
      " 192001 6\n"
     ]
    }
   ],
   "source": [
    "s=input()\n",
    "s1=\" \"\n",
    "s2=\" \"\n",
    "s3=\" \"\n",
    "s4=\" \"\n",
    "s5=\" \"\n",
    "caps_count=0\n",
    "lower_count=0\n",
    "space_count=0\n",
    "num_count=0\n",
    "for i in range (len(s)):\n",
    "    if(s[i].isalpha()):\n",
    "        s1=s1+s[i]\n",
    "        if(s[i].isupper()):\n",
    "            caps_count=caps_count+1\n",
    "            s2=s2+s[i]\n",
    "        elif(s[i].islower()):\n",
    "            lower_count=lower_count+1\n",
    "            s3=s3+s[i]\n",
    "    elif(s[i].isspace()):\n",
    "        space_count=space_count+1\n",
    "        s4=s4+s[i]\n",
    "    elif(s[i].isdigit()):\n",
    "        num_count=num_count+1\n",
    "        s5=s5+s[i]\n",
    "print(s1)\n",
    "print(s2,end=' ')\n",
    "print(caps_count)\n",
    "print(s3,end=' ')\n",
    "print(lower_count)\n",
    "print(s4,end=' ')\n",
    "print(space_count)\n",
    "print(s5,end=' ')\n",
    "print(num_count)"
   ]
  },
  {
   "cell_type": "code",
   "execution_count": 41,
   "metadata": {},
   "outputs": [
    {
     "data": {
      "text/plain": [
       "2"
      ]
     },
     "execution_count": 41,
     "metadata": {},
     "output_type": "execute_result"
    }
   ],
   "source": [
    "s=\"python programming\"\n",
    "s.count('o')"
   ]
  },
  {
   "cell_type": "code",
   "execution_count": 49,
   "metadata": {},
   "outputs": [
    {
     "data": {
      "text/plain": [
       "'pythonprogramming'"
      ]
     },
     "execution_count": 49,
     "metadata": {},
     "output_type": "execute_result"
    }
   ],
   "source": [
    "s=\"   pythonprogramming     \"\n",
    "s.strip()"
   ]
  },
  {
   "cell_type": "code",
   "execution_count": 44,
   "metadata": {},
   "outputs": [
    {
     "data": {
      "text/plain": [
       "'python programming'"
      ]
     },
     "execution_count": 44,
     "metadata": {},
     "output_type": "execute_result"
    }
   ],
   "source": [
    "s=\"   python programming\"\n",
    "s.lstrip()"
   ]
  },
  {
   "cell_type": "code",
   "execution_count": 45,
   "metadata": {},
   "outputs": [
    {
     "data": {
      "text/plain": [
       "'python programming'"
      ]
     },
     "execution_count": 45,
     "metadata": {},
     "output_type": "execute_result"
    }
   ],
   "source": [
    "s=\"python programming    \"\n",
    "s.rstrip()"
   ]
  },
  {
   "cell_type": "code",
   "execution_count": 62,
   "metadata": {},
   "outputs": [
    {
     "data": {
      "text/plain": [
       "'python programming'"
      ]
     },
     "execution_count": 62,
     "metadata": {},
     "output_type": "execute_result"
    }
   ],
   "source": [
    "s=\"python programming\"\n",
    "s.expandtabs(3)"
   ]
  },
  {
   "cell_type": "code",
   "execution_count": 59,
   "metadata": {},
   "outputs": [
    {
     "data": {
      "text/plain": [
       "'0000python programming'"
      ]
     },
     "execution_count": 59,
     "metadata": {},
     "output_type": "execute_result"
    }
   ],
   "source": [
    "s=\"python programming\"\n",
    "s.zfill(22)"
   ]
  },
  {
   "cell_type": "code",
   "execution_count": 51,
   "metadata": {},
   "outputs": [
    {
     "data": {
      "text/plain": [
       "'python programming language'"
      ]
     },
     "execution_count": 51,
     "metadata": {},
     "output_type": "execute_result"
    }
   ],
   "source": [
    "\"{} {} language\".format('python','programming') "
   ]
  },
  {
   "cell_type": "code",
   "execution_count": 57,
   "metadata": {},
   "outputs": [
    {
     "name": "stdout",
     "output_type": "stream",
     "text": [
      "enter n value:2\n",
      "2 * 1 = 2 \n",
      "2 * 2 = 4 \n",
      "2 * 3 = 6 \n",
      "2 * 4 = 8 \n",
      "2 * 5 = 10 \n",
      "2 * 6 = 12 \n",
      "2 * 7 = 14 \n",
      "2 * 8 = 16 \n",
      "2 * 9 = 18 \n",
      "2 * 10 = 20 \n"
     ]
    }
   ],
   "source": [
    "#printing tables using format method\n",
    "n=int(input(\"enter n value:\"))\n",
    "for i in range(1,11):\n",
    "    a=n*i\n",
    "    print( \"{} * {} = {} \".format(n,i,a))\n",
    "    "
   ]
  },
  {
   "cell_type": "code",
   "execution_count": 60,
   "metadata": {},
   "outputs": [
    {
     "data": {
      "text/plain": [
       "8"
      ]
     },
     "execution_count": 60,
     "metadata": {},
     "output_type": "execute_result"
    }
   ],
   "source": [
    "s=\"python programming\"\n",
    "s.index('r')"
   ]
  },
  {
   "cell_type": "code",
   "execution_count": 65,
   "metadata": {},
   "outputs": [
    {
     "data": {
      "text/plain": [
       "9"
      ]
     },
     "execution_count": 65,
     "metadata": {},
     "output_type": "execute_result"
    }
   ],
   "source": [
    "s=\"python programming\"\n",
    "s.rindex('o')"
   ]
  },
  {
   "cell_type": "code",
   "execution_count": 64,
   "metadata": {},
   "outputs": [
    {
     "data": {
      "text/plain": [
       "'p@y@t@h@o@n@ @p@r@o@g@r@a@m@m@i@n@g'"
      ]
     },
     "execution_count": 64,
     "metadata": {},
     "output_type": "execute_result"
    }
   ],
   "source": [
    "s=\"python programming\"\n",
    "'@'.join(s)"
   ]
  },
  {
   "cell_type": "code",
   "execution_count": 66,
   "metadata": {},
   "outputs": [
    {
     "data": {
      "text/plain": [
       "['python', 'programming']"
      ]
     },
     "execution_count": 66,
     "metadata": {},
     "output_type": "execute_result"
    }
   ],
   "source": [
    "s=\"python programming\"\n",
    "s.split()"
   ]
  },
  {
   "cell_type": "code",
   "execution_count": 68,
   "metadata": {},
   "outputs": [
    {
     "name": "stdout",
     "output_type": "stream",
     "text": [
      "['pyth', 'n pr', 'gramming']\n",
      "t\n"
     ]
    }
   ],
   "source": [
    "s=\"python programming\"\n",
    "s1=s.split('o')\n",
    "print(s1)\n",
    "print(s1[0][2])"
   ]
  },
  {
   "cell_type": "code",
   "execution_count": 2,
   "metadata": {},
   "outputs": [
    {
     "data": {
      "text/plain": [
       "' p y t h o n '"
      ]
     },
     "execution_count": 2,
     "metadata": {},
     "output_type": "execute_result"
    }
   ],
   "source": [
    "s=\"python\"\n",
    "s.replace('',\" \")"
   ]
  },
  {
   "cell_type": "code",
   "execution_count": 6,
   "metadata": {},
   "outputs": [
    {
     "name": "stdout",
     "output_type": "stream",
     "text": [
      "Apssdc python PRogRamMIng vignans LARA "
     ]
    }
   ],
   "source": [
    "s=\"apssdc PYTHON prOGrAMmiNG vignans lara\"\n",
    "l=s.split()\n",
    "print(l[0].capitalize(),end=\" \")\n",
    "print(l[1].lower(),end=\" \")\n",
    "print(l[2].swapcase(),end=\" \")\n",
    "print(l[3],end=\" \")\n",
    "print(l[4].upper(),end=\" \")"
   ]
  },
  {
   "cell_type": "code",
   "execution_count": 5,
   "metadata": {},
   "outputs": [
    {
     "name": "stdout",
     "output_type": "stream",
     "text": [
      "yarru Ramya\n",
      "y.Ramya\n"
     ]
    }
   ],
   "source": [
    "s=input()\n",
    "l=s.split()\n",
    "#print(\" {}.{} \".format(l[0][0],l[1]))\n",
    "print(l[0][0],\".\",l[1],sep=\"\")"
   ]
  },
  {
   "cell_type": "markdown",
   "metadata": {},
   "source": [
    "### Lists in Python\n",
    "* collection of elements with in [] separated by ,\n",
    "* lists have indeixng and slicing\n",
    "* lists are mutable"
   ]
  },
  {
   "cell_type": "code",
   "execution_count": 15,
   "metadata": {},
   "outputs": [
    {
     "name": "stdout",
     "output_type": "stream",
     "text": [
      "['__add__', '__class__', '__contains__', '__delattr__', '__delitem__', '__dir__', '__doc__', '__eq__', '__format__', '__ge__', '__getattribute__', '__getitem__', '__gt__', '__hash__', '__iadd__', '__imul__', '__init__', '__init_subclass__', '__iter__', '__le__', '__len__', '__lt__', '__mul__', '__ne__', '__new__', '__reduce__', '__reduce_ex__', '__repr__', '__reversed__', '__rmul__', '__setattr__', '__setitem__', '__sizeof__', '__str__', '__subclasshook__', 'append', 'clear', 'copy', 'count', 'extend', 'index', 'insert', 'pop', 'remove', 'reverse', 'sort']\n"
     ]
    }
   ],
   "source": [
    "print(dir(list))"
   ]
  },
  {
   "cell_type": "code",
   "execution_count": 17,
   "metadata": {},
   "outputs": [
    {
     "name": "stdout",
     "output_type": "stream",
     "text": [
      "[]\n",
      "<class 'list'>\n",
      "[1]\n",
      "[1, 2]\n",
      "[1, 2, [3, 4, 5]]\n",
      "4\n"
     ]
    }
   ],
   "source": [
    "l=[]\n",
    "print(l)\n",
    "print(type(l))\n",
    "l.append(1)\n",
    "print(l)\n",
    "l.append(2)\n",
    "print(l)\n",
    "l.append([3,4,5])\n",
    "print(l)\n",
    "print(l[2][1])"
   ]
  },
  {
   "cell_type": "code",
   "execution_count": 21,
   "metadata": {},
   "outputs": [
    {
     "name": "stdout",
     "output_type": "stream",
     "text": [
      "[1]\n"
     ]
    }
   ],
   "source": [
    "l1=[1,2,3]\n",
    "l1.pop()\n",
    "l1.pop(1)\n",
    "print(l1)"
   ]
  },
  {
   "cell_type": "code",
   "execution_count": 28,
   "metadata": {},
   "outputs": [
    {
     "name": "stdout",
     "output_type": "stream",
     "text": [
      "[7, 6, 5, 4, 3, 2, 1]\n",
      "[1, 3, 5, 34, 56, 333, 900]\n",
      "[900, 333, 56, 34, 5, 3, 1]\n"
     ]
    }
   ],
   "source": [
    "l1=[1,2,3,4,5,6,7]\n",
    "l1.reverse()\n",
    "print(l1)\n",
    "l2=[3,1,5,34,56,333,900]\n",
    "l2.sort()\n",
    "print(l2)\n",
    "l2.sort(reverse=True)\n",
    "print(l2)"
   ]
  },
  {
   "cell_type": "code",
   "execution_count": 30,
   "metadata": {},
   "outputs": [
    {
     "name": "stdout",
     "output_type": "stream",
     "text": [
      "[1, 2, 3]\n",
      "[1, 2, 3]\n"
     ]
    }
   ],
   "source": [
    "l=[1,2,3]\n",
    "print(l)\n",
    "l1=l.copy()\n",
    "print(l1)"
   ]
  },
  {
   "cell_type": "code",
   "execution_count": 36,
   "metadata": {},
   "outputs": [
    {
     "name": "stdout",
     "output_type": "stream",
     "text": [
      "[1, 2, 3, 4, 5, 6, 7, 8, 9]\n"
     ]
    }
   ],
   "source": [
    "l=[]\n",
    "for i in range(1,10):\n",
    "    l.append(i)\n",
    "print(l)"
   ]
  },
  {
   "cell_type": "code",
   "execution_count": 46,
   "metadata": {},
   "outputs": [
    {
     "name": "stdout",
     "output_type": "stream",
     "text": [
      "[2, 4, 6, 8, 10, 12, 14, 16, 18, 20, 22, 24, 26, 28, 30, 32, 34, 36, 38, 40, 42, 44, 46, 48, 50]\n",
      "[4, 8, 12, 16, 20, 24, 28, 32, 36, 40, 44, 48, 52, 56, 60, 64, 68, 72, 76, 80, 84, 88, 92, 96, 104, 108, 112, 116, 120, 124, 128, 132, 136, 140, 144, 148, 152, 156, 160, 164, 168, 172, 176, 180, 184, 188, 192, 196, 204, 208, 212, 216, 220, 224, 228, 232, 236, 240, 244, 248, 252, 256, 260, 264, 268, 272, 276, 280, 284, 288, 292, 296, 304, 308, 312, 316, 320, 324, 328, 332, 336, 340, 344, 348, 352, 356, 360, 364, 368, 372, 376, 380, 384, 388, 392, 396, 400, 404, 408, 412, 416, 420, 424, 428, 432, 436, 440, 444, 448, 452, 456, 460, 464, 468, 472, 476, 480, 484, 488, 492, 496, 504, 508, 512, 516, 520, 524, 528, 532, 536, 540, 544, 548, 552, 556, 560, 564, 568, 572, 576, 580, 584, 588, 592, 596, 604, 608, 612, 616, 620, 624, 628, 632, 636, 640, 644, 648, 652, 656, 660, 664, 668, 672, 676, 680, 684, 688, 692, 696, 704, 708, 712, 716, 720, 724, 728, 732, 736, 740, 744, 748, 752, 756, 760, 764, 768, 772, 776, 780, 784, 788, 792, 796, 800, 804, 808, 812, 816, 820, 824, 828, 832, 836, 840, 844, 848, 852, 856, 860, 864, 868, 872, 876, 880, 884, 888, 892, 896, 904, 908, 912, 916, 920, 924, 928, 932, 936, 940, 944, 948, 952, 956, 960, 964, 968, 972, 976, 980, 984, 988, 992, 996, 1004, 1008, 1012, 1016, 1020, 1024, 1028, 1032, 1036, 1040, 1044, 1048, 1052, 1056, 1060, 1064, 1068, 1072, 1076, 1080, 1084, 1088, 1092, 1096, 1104, 1108, 1112, 1116, 1120, 1124, 1128, 1132, 1136, 1140, 1144, 1148, 1152, 1156, 1160, 1164, 1168, 1172, 1176, 1180, 1184, 1188, 1192, 1196, 1200, 1204, 1208, 1212, 1216, 1220, 1224, 1228, 1232, 1236, 1240, 1244, 1248, 1252, 1256, 1260, 1264, 1268, 1272, 1276, 1280, 1284, 1288, 1292, 1296, 1304, 1308, 1312, 1316, 1320, 1324, 1328, 1332, 1336, 1340, 1344, 1348, 1352, 1356, 1360, 1364, 1368, 1372, 1376, 1380, 1384, 1388, 1392, 1396, 1404, 1408, 1412, 1416, 1420, 1424, 1428, 1432, 1436, 1440, 1444, 1448, 1452, 1456, 1460, 1464, 1468, 1472, 1476, 1480, 1484, 1488, 1492, 1496, 1504, 1508, 1512, 1516, 1520, 1524, 1528, 1532, 1536, 1540, 1544, 1548, 1552, 1556, 1560, 1564, 1568, 1572, 1576, 1580, 1584, 1588, 1592, 1596, 1600, 1604, 1608, 1612, 1616, 1620, 1624, 1628, 1632, 1636, 1640, 1644, 1648, 1652, 1656, 1660, 1664, 1668, 1672, 1676, 1680, 1684, 1688, 1692, 1696, 1704, 1708, 1712, 1716, 1720, 1724, 1728, 1732, 1736, 1740, 1744, 1748, 1752, 1756, 1760, 1764, 1768, 1772, 1776, 1780, 1784, 1788, 1792, 1796, 1804, 1808, 1812, 1816, 1820, 1824, 1828, 1832, 1836, 1840, 1844, 1848, 1852, 1856, 1860, 1864, 1868, 1872, 1876, 1880, 1884, 1888, 1892, 1896, 1904, 1908, 1912, 1916, 1920, 1924, 1928, 1932, 1936, 1940, 1944, 1948, 1952, 1956, 1960, 1964, 1968, 1972, 1976, 1980, 1984, 1988, 1992, 1996, 2000, 2004, 2008, 2012, 2016, 2020]\n"
     ]
    }
   ],
   "source": [
    "l1=[]\n",
    "l2=[]\n",
    "for i in range(1,51):\n",
    "    if(i%2==0):\n",
    "        l1.append(i)\n",
    "for j in range(1,2021):\n",
    "    if((j%400==0)or((j%100!=0)and(j%4==0))):\n",
    "        l2.append(j)\n",
    "print(l1)\n",
    "print(l2)\n",
    "        "
   ]
  },
  {
   "cell_type": "code",
   "execution_count": 48,
   "metadata": {},
   "outputs": [
    {
     "name": "stdout",
     "output_type": "stream",
     "text": [
      "[35, 70, 105, 140, 175, 210, 245, 280, 315, 350, 385, 420, 455, 490]\n"
     ]
    }
   ],
   "source": [
    "l=[]\n",
    "for i in  range(5,501):\n",
    "    if((i%5==0)and(i%7==0)):\n",
    "        l.append(i)\n",
    "print(l)"
   ]
  },
  {
   "cell_type": "code",
   "execution_count": 49,
   "metadata": {},
   "outputs": [
    {
     "name": "stdout",
     "output_type": "stream",
     "text": [
      "[65, 66, 67, 68, 69, 70, 71, 72, 73, 74, 75, 76, 77, 78, 79, 80, 81, 82, 83, 84, 85, 86, 87, 88, 89, 90]\n"
     ]
    }
   ],
   "source": [
    "l=[]\n",
    "for i in range(ord('A'),ord('Z')+1):\n",
    "    l.append(i)\n",
    "print(l)"
   ]
  },
  {
   "cell_type": "code",
   "execution_count": 55,
   "metadata": {},
   "outputs": [
    {
     "name": "stdout",
     "output_type": "stream",
     "text": [
      "['B', 'D', 'F', 'H', 'J', 'L', 'N', 'P', 'R', 'T', 'V', 'X', 'Z']\n"
     ]
    }
   ],
   "source": [
    "l=[]\n",
    "for i in range(ord('A'),ord('Z')+1):\n",
    "    if(i%2==0):\n",
    "        l.append(chr(i))\n",
    "print(l)"
   ]
  },
  {
   "cell_type": "markdown",
   "metadata": {},
   "source": [
    "### Tuple in Python\n",
    "* collection of different elements with in ()\n",
    "* tuple having indexes and slicing\n",
    "* tuples are immutable(can't change the values)"
   ]
  },
  {
   "cell_type": "code",
   "execution_count": 56,
   "metadata": {},
   "outputs": [
    {
     "name": "stdout",
     "output_type": "stream",
     "text": [
      "()\n",
      "<class 'tuple'>\n"
     ]
    }
   ],
   "source": [
    "t=()\n",
    "print(t)\n",
    "print(type(t))"
   ]
  },
  {
   "cell_type": "code",
   "execution_count": 61,
   "metadata": {},
   "outputs": [
    {
     "name": "stdout",
     "output_type": "stream",
     "text": [
      "(1, 2, 3, 4, 5)\n",
      "<class 'tuple'>\n"
     ]
    }
   ],
   "source": [
    "t=(1,2,3,4,5)\n",
    "print(t)\n",
    "print(type(t))"
   ]
  },
  {
   "cell_type": "code",
   "execution_count": 62,
   "metadata": {},
   "outputs": [
    {
     "name": "stdout",
     "output_type": "stream",
     "text": [
      "[1, 2, 3, 4, 5]\n",
      "<class 'list'>\n"
     ]
    }
   ],
   "source": [
    "t1=list(t)\n",
    "print(t1)\n",
    "print(type(t1))"
   ]
  },
  {
   "cell_type": "code",
   "execution_count": 63,
   "metadata": {},
   "outputs": [
    {
     "name": "stdout",
     "output_type": "stream",
     "text": [
      "(1, 2, 3, 4, 5)\n",
      "<class 'tuple'>\n"
     ]
    }
   ],
   "source": [
    "t2=tuple(t1)\n",
    "print(t2)\n",
    "print(type(t2))"
   ]
  },
  {
   "cell_type": "code",
   "execution_count": 64,
   "metadata": {},
   "outputs": [
    {
     "name": "stdout",
     "output_type": "stream",
     "text": [
      "['__add__', '__class__', '__contains__', '__delattr__', '__dir__', '__doc__', '__eq__', '__format__', '__ge__', '__getattribute__', '__getitem__', '__getnewargs__', '__gt__', '__hash__', '__init__', '__init_subclass__', '__iter__', '__le__', '__len__', '__lt__', '__mul__', '__ne__', '__new__', '__reduce__', '__reduce_ex__', '__repr__', '__rmul__', '__setattr__', '__sizeof__', '__str__', '__subclasshook__', 'count', 'index']\n"
     ]
    }
   ],
   "source": [
    "print(dir(tuple))"
   ]
  },
  {
   "cell_type": "code",
   "execution_count": 68,
   "metadata": {},
   "outputs": [
    {
     "name": "stdout",
     "output_type": "stream",
     "text": [
      "1\n",
      "36\n",
      "1\n"
     ]
    }
   ],
   "source": [
    "t=(1,2,36,4,5,7,6,8)\n",
    "print(t.count(2))\n",
    "print(max(t))\n",
    "print(min(t))"
   ]
  },
  {
   "cell_type": "code",
   "execution_count": 73,
   "metadata": {},
   "outputs": [
    {
     "name": "stdout",
     "output_type": "stream",
     "text": [
      "['1', '2', '3', '4', '5', '6']\n",
      "[1.0, 2.0, 3.0, 4.0, 5.0, 6.0]\n"
     ]
    }
   ],
   "source": [
    "l=[1,2,3,4,5,6]\n",
    "l1=list(map(str,l))\n",
    "print(l1)\n",
    "l2=list(map(float,l))\n",
    "print(l2)"
   ]
  },
  {
   "cell_type": "code",
   "execution_count": 7,
   "metadata": {},
   "outputs": [
    {
     "name": "stdout",
     "output_type": "stream",
     "text": [
      "(2, 2, 4, 3, 5, 8, 6, 4, 9, 1)\n",
      "[4, 4, 16, 9, 25, 64, 36, 16, 81, 1]\n",
      "(4, 4, 16, 9, 25, 64, 36, 16, 81, 1)\n",
      "<class 'tuple'>\n",
      "8\n",
      "1\n"
     ]
    }
   ],
   "source": [
    "t=(2,2,4,3,5,8,6,4,9,1)\n",
    "print(t)\n",
    "l1=list(t)\n",
    "l2=[]\n",
    "for i in range(len(l1)):\n",
    "    l2.append(l1[i]*l1[i])\n",
    "print(l2)\n",
    "t1=tuple(l2)\n",
    "print(t1)\n",
    "print(type(t1))\n",
    "a=max(t1)\n",
    "max_index=t1.index(a)\n",
    "print(max_index)\n",
    "b=min(t1)\n",
    "min_count=0\n",
    "for i in t1:\n",
    "    if(i==b):\n",
    "        min_count+=1\n",
    "print(min_count)"
   ]
  },
  {
   "cell_type": "markdown",
   "metadata": {},
   "source": [
    "### Dictionaries\n",
    "* collectiomof items(key,value)\n",
    "* {key:value)"
   ]
  },
  {
   "cell_type": "code",
   "execution_count": 10,
   "metadata": {},
   "outputs": [
    {
     "name": "stdout",
     "output_type": "stream",
     "text": [
      "<class 'dict'>\n",
      "<class 'dict'>\n"
     ]
    }
   ],
   "source": [
    "d={}\n",
    "print(type(d))\n",
    "d1=dict(d)\n",
    "print(type(d1))"
   ]
  },
  {
   "cell_type": "code",
   "execution_count": 12,
   "metadata": {},
   "outputs": [
    {
     "name": "stdout",
     "output_type": "stream",
     "text": [
      "{'a': 1, 'b': 2, 'c': 3}\n"
     ]
    }
   ],
   "source": [
    "#usimg zip method we can convert the two list elements which first elements as keys and second list elements as values\n",
    "l1=['a','b','c']\n",
    "l2=[1,2,3]\n",
    "d1=dict(zip(l1,l2))\n",
    "print(d1)"
   ]
  },
  {
   "cell_type": "code",
   "execution_count": 14,
   "metadata": {},
   "outputs": [
    {
     "name": "stdout",
     "output_type": "stream",
     "text": [
      "{'2': 'abc', '4': 'def', '6': 'ghi'}\n"
     ]
    }
   ],
   "source": [
    "l=['2','4','6']\n",
    "t=('abc','def','ghi')\n",
    "d2=dict(zip(l,t))\n",
    "print(d2)"
   ]
  },
  {
   "cell_type": "code",
   "execution_count": 15,
   "metadata": {},
   "outputs": [
    {
     "name": "stdout",
     "output_type": "stream",
     "text": [
      "['__class__', '__contains__', '__delattr__', '__delitem__', '__dir__', '__doc__', '__eq__', '__format__', '__ge__', '__getattribute__', '__getitem__', '__gt__', '__hash__', '__init__', '__init_subclass__', '__iter__', '__le__', '__len__', '__lt__', '__ne__', '__new__', '__reduce__', '__reduce_ex__', '__repr__', '__reversed__', '__setattr__', '__setitem__', '__sizeof__', '__str__', '__subclasshook__', 'clear', 'copy', 'fromkeys', 'get', 'items', 'keys', 'pop', 'popitem', 'setdefault', 'update', 'values']\n"
     ]
    }
   ],
   "source": [
    "print(dir(dict))"
   ]
  },
  {
   "cell_type": "code",
   "execution_count": 12,
   "metadata": {},
   "outputs": [
    {
     "name": "stdout",
     "output_type": "stream",
     "text": [
      "dict_keys(['name', 'branch', 'rollno', 'college'])\n",
      "dict_values(['Ramya', 'CSE', 1111, 'VLITS'])\n",
      "dict_items([('name', 'Ramya'), ('branch', 'CSE'), ('rollno', 1111), ('college', 'VLITS')])\n",
      "Ramya\n",
      "{'name': 'Ramya', 'branch': 'CSE', 'rollno': 1111, 'college': 'VLITS', 'a': 23}\n",
      "{'name': 'Ramya', 'branch': 'CSE', 'rollno': 1111, 'college': 'VLITS'}\n",
      "{'name': 'Ramya', 'branch': 'CSE', 'college': 'VLITS'}\n",
      "{'name': 'Ramya', 'branch': 'CSE', 'college': 'Vignan'}\n",
      "{'name': 'Ramya', 'branch': 'CSE', 'college': 'Vignan', 'prog': 'python'}\n",
      "{'name': 'Ramya', 'branch': 'CSE', 'college': 'Vignan', 'prog': 'python'}\n"
     ]
    }
   ],
   "source": [
    "d={\"name\":\"Ramya\",\"branch\":\"CSE\",\"rollno\":1111,\"college\":\"VLITS\"}\n",
    "print(d.keys())\n",
    "print(d.values())\n",
    "print(d.items())\n",
    "print(d.get(\"name\"))\n",
    "d['a']=23\n",
    "print(d)\n",
    "d.popitem()\n",
    "print(d)\n",
    "d.pop('rollno')\n",
    "print(d)\n",
    "d.update({'college':'Vignan'})\n",
    "print(d) \n",
    "d.setdefault('prog','python')\n",
    "print(d)\n",
    "d.setdefault('prog','python programming')\n",
    "print(d)"
   ]
  },
  {
   "cell_type": "code",
   "execution_count": 14,
   "metadata": {},
   "outputs": [
    {
     "data": {
      "text/plain": [
       "{'key1': None, 'key2': None}"
      ]
     },
     "execution_count": 14,
     "metadata": {},
     "output_type": "execute_result"
    }
   ],
   "source": [
    "#fromkeys\n",
    "#fromkeys(sequence,value)\n",
    "t=('key1','key2')\n",
    "d=dict.fromkeys(t)\n",
    "d"
   ]
  },
  {
   "cell_type": "markdown",
   "metadata": {},
   "source": []
  }
 ],
 "metadata": {
  "kernelspec": {
   "display_name": "Python 3",
   "language": "python",
   "name": "python3"
  },
  "language_info": {
   "codemirror_mode": {
    "name": "ipython",
    "version": 3
   },
   "file_extension": ".py",
   "mimetype": "text/x-python",
   "name": "python",
   "nbconvert_exporter": "python",
   "pygments_lexer": "ipython3",
   "version": "3.8.5"
  }
 },
 "nbformat": 4,
 "nbformat_minor": 4
}
