{
 "cells": [
  {
   "cell_type": "code",
   "execution_count": 13,
   "metadata": {},
   "outputs": [
    {
     "name": "stdout",
     "output_type": "stream",
     "text": [
      "enter student count:10\n",
      "enter lower count:0\n",
      "enter upper count:100\n"
     ]
    }
   ],
   "source": [
    "#file data proccesing\n",
    "from random import randint\n",
    "def marksgen(n,lb,ub):\n",
    "    with open('datafiles/marks.txt','w') as info:\n",
    "        for i in range(0,n):\n",
    "            r=randint(lb,ub)\n",
    "            info.write(str(r)+'\\n')\n",
    "    return\n",
    "n=int(input(\"enter student count:\"))\n",
    "lb=int(input(\"enter lower count:\"))\n",
    "ub=int(input(\"enter upper count:\"))\n",
    "marksgen(n,lb,ub)"
   ]
  },
  {
   "cell_type": "code",
   "execution_count": 22,
   "metadata": {},
   "outputs": [
    {
     "name": "stdout",
     "output_type": "stream",
     "text": [
      "56.5\n",
      "70.0\n",
      "30.0\n",
      "40.0\n",
      "0\n",
      "0\n"
     ]
    }
   ],
   "source": [
    "with open('datafiles/marks.txt') as info:\n",
    "    count=0\n",
    "    pass_count=0\n",
    "    fail_count=0\n",
    "    distinction_count=0\n",
    "    sum1=0\n",
    "    min_freq_count=0\n",
    "    max_freq_count=0\n",
    "    l=[]\n",
    "    for i in info:\n",
    "        l.append(i)\n",
    "        count=count+1\n",
    "        sum1=sum1+int(i)\n",
    "        if(int(i)>=35):\n",
    "            pass_count+=1\n",
    "            if(int(i)>=70):\n",
    "                distinction_count+=1\n",
    "        else:\n",
    "            fail_count+=1\n",
    "    a=max(l)\n",
    "    b=min(l)\n",
    "    for i in info:\n",
    "        if(a==int(i)):\n",
    "            max_freq_count+=1\n",
    "        elif(b==int(i)):\n",
    "            min_freq_count+=1\n",
    "average=sum1/count\n",
    "pass_percentage=((pass_count/count))*100\n",
    "fail_percentage=((fail_count/count))*100\n",
    "distinction_percentage=((distinction_count/count)*100)\n",
    "print(average)\n",
    "print(pass_percentage)\n",
    "print(fail_percentage)\n",
    "print(distinction_percentage)\n",
    "print(min_freq_count)\n",
    "print(max_freq_count)"
   ]
  },
  {
   "cell_type": "markdown",
   "metadata": {},
   "source": [
    "### Patterns"
   ]
  },
  {
   "cell_type": "code",
   "execution_count": 35,
   "metadata": {},
   "outputs": [
    {
     "name": "stdout",
     "output_type": "stream",
     "text": [
      "enter n value:5\n",
      "* * * * * \n",
      "\n",
      "*       * \n",
      "\n",
      "*       * \n",
      "\n",
      "*       * \n",
      "\n",
      "* * * * * \n",
      "\n"
     ]
    }
   ],
   "source": [
    "n=int(input(\"enter n value:\"))\n",
    "for i in range(1,n+1):\n",
    "    for j in range(1,n+1):\n",
    "        if(i==1 or i==n):\n",
    "            print(\"*\",end=\" \")\n",
    "        else:\n",
    "            if(j==1 or j==n):\n",
    "                print(\"*\",end=\" \")\n",
    "            else:\n",
    "                print(\" \",end=\" \")\n",
    "    print(\"\\n\")"
   ]
  },
  {
   "cell_type": "code",
   "execution_count": 50,
   "metadata": {},
   "outputs": [
    {
     "name": "stdout",
     "output_type": "stream",
     "text": [
      "enter n value:3\n",
      "\n",
      "\n",
      "* \n",
      "\n",
      "* * \n",
      "\n",
      "* * * \n",
      "\n"
     ]
    }
   ],
   "source": [
    "n=int(input(\"enter n value:\"))\n",
    "for i in range(0,n+1):\n",
    "    for j in range(0,i):\n",
    "        print(\"*\",end=\" \")\n",
    "    print(\"\\n\")"
   ]
  },
  {
   "cell_type": "code",
   "execution_count": 43,
   "metadata": {},
   "outputs": [
    {
     "name": "stdout",
     "output_type": "stream",
     "text": [
      "enter n value:3\n",
      "* * * \n",
      "\n",
      "* * \n",
      "\n",
      "* \n",
      "\n",
      "\n",
      "\n"
     ]
    }
   ],
   "source": [
    "n=int(input(\"enter n value:\"))\n",
    "for i in range(0,n+1):\n",
    "    for j in range(n,i,-1):\n",
    "        print(\"*\",end=\" \")\n",
    "    print(\"\\n\")"
   ]
  },
  {
   "cell_type": "code",
   "execution_count": 54,
   "metadata": {},
   "outputs": [
    {
     "name": "stdout",
     "output_type": "stream",
     "text": [
      "enter n value:3\n",
      "\n",
      "\n",
      "* \n",
      "\n",
      "* * \n",
      "\n",
      "* * * \n",
      "\n",
      "* * \n",
      "\n",
      "* \n",
      "\n",
      "\n",
      "\n"
     ]
    }
   ],
   "source": [
    "n=int(input(\"enter n value:\"))\n",
    "for i in range(0,n):\n",
    "    for j in range(0,i):\n",
    "        print(\"*\",end=\" \")\n",
    "    print(\"\\n\")\n",
    "for i in range(0,n+1):\n",
    "    for j in range(n,i,-1):\n",
    "        print(\"*\",end=\" \")\n",
    "    print(\"\\n\")"
   ]
  },
  {
   "cell_type": "code",
   "execution_count": 13,
   "metadata": {},
   "outputs": [
    {
     "name": "stdout",
     "output_type": "stream",
     "text": [
      "enter n value:5\n",
      "* * * * * \n",
      "\n",
      "* *   * * \n",
      "\n",
      "*   *   * \n",
      "\n",
      "* *   * * \n",
      "\n",
      "* * * * * \n",
      "\n"
     ]
    }
   ],
   "source": [
    "n=int(input(\"enter n value:\"))\n",
    "for i in range(1,n+1):\n",
    "    for j in range(1,n+1):\n",
    "        if(i==1 or i==n):\n",
    "            print(\"*\",end=\" \")\n",
    "        elif(i==2 or i==n-1):\n",
    "            if(j==1 or j==2 or j==n-1 or j==n):\n",
    "                print(\"*\",end=\" \")\n",
    "            else:\n",
    "                print(\" \",end=\" \")\n",
    "        elif(i==3):\n",
    "            if(j==1 or j==i  or j==n):\n",
    "                print(\"*\",end=\" \")\n",
    "            else:\n",
    "                print(\" \",end=\" \")\n",
    "    print(\"\\n\")"
   ]
  },
  {
   "cell_type": "code",
   "execution_count": 35,
   "metadata": {},
   "outputs": [
    {
     "name": "stdout",
     "output_type": "stream",
     "text": [
      "enter number:5\n",
      "* * * * * \n",
      "\n",
      "* *   * * \n",
      "\n",
      "*   *   * \n",
      "\n",
      "* *   * * \n",
      "\n",
      "* * * * * \n",
      "\n"
     ]
    }
   ],
   "source": [
    "n=int(input(\"enter number:\"))\n",
    "for i in range(1,n+1):\n",
    "    for j in range(1,n+1):\n",
    "            if(i==1 or j==n or j==1 or i==n or i==j or j==n-i+1):\n",
    "                print(\"*\",end=\" \")\n",
    "            else:\n",
    "                print(\" \",end=\" \")\n",
    "    print(\"\\n\")"
   ]
  },
  {
   "cell_type": "code",
   "execution_count": 83,
   "metadata": {},
   "outputs": [
    {
     "name": "stdout",
     "output_type": "stream",
     "text": [
      "entre n value:5\n",
      "          * * * * * \n",
      "\n",
      "                  \n",
      "\n",
      "                \n",
      "\n",
      "              \n",
      "\n",
      "  * * * * * \n",
      "\n"
     ]
    }
   ],
   "source": [
    "n=int(input(\"entre n value:\"))\n",
    "for i in range(1,n+1):\n",
    "    for j in range(n,i-1,-1):\n",
    "        print(\" \",end=\" \")\n",
    "    for j in range(n,2*n):\n",
    "        if(i==1 or i==n):\n",
    "            if(j==n or 2*n):\n",
    "                print(\"*\",end=\" \")\n",
    "        else:\n",
    "            if(j==n or j!=2*n):\n",
    "                print(\" \",end=\" \")\n",
    "            else:\n",
    "                print(\"*\",end=\" \")\n",
    "    print(\"\\n\")"
   ]
  },
  {
   "cell_type": "markdown",
   "metadata": {},
   "source": [
    "### Object Oriented Programming Language\n",
    "* class\n",
    "* object\n",
    "* constructor\n",
    "* Inheritance\n",
    "* packages and modules using oops"
   ]
  },
  {
   "cell_type": "markdown",
   "metadata": {},
   "source": [
    "##### Class\n",
    "* collection of variables and methods\n",
    "* **syntax:**\n",
    "          class classname:\n",
    "               '''documenation'''\n",
    "               variables\n",
    "               methods\n",
    "* **Rules**\n",
    "* Should be capital\n",
    "* doesn't allow spaces\n",
    "* doesn't allow keywords\n"
   ]
  },
  {
   "cell_type": "code",
   "execution_count": 23,
   "metadata": {},
   "outputs": [
    {
     "name": "stdout",
     "output_type": "stream",
     "text": [
      "10\n",
      "from exmp function....\n",
      "basic example\n"
     ]
    }
   ],
   "source": [
    "class exm:\n",
    "    '''basic example'''\n",
    "    a=10\n",
    "    def exmp():\n",
    "        return('from exmp function....')\n",
    "        \n",
    "print(exm.a)\n",
    "print(exm.exmp())\n",
    "print(exm.__doc__)   "
   ]
  },
  {
   "cell_type": "code",
   "execution_count": 31,
   "metadata": {},
   "outputs": [
    {
     "name": "stdout",
     "output_type": "stream",
     "text": [
      "6\n",
      "720\n"
     ]
    }
   ],
   "source": [
    "class operation:\n",
    "    def fact(n):\n",
    "        fact1=1\n",
    "        for i in range(1,n+1):\n",
    "            fact1=fact1*i\n",
    "        return fact1\n",
    "n=int(input())\n",
    "print(operation.fact(n))"
   ]
  },
  {
   "cell_type": "code",
   "execution_count": 44,
   "metadata": {},
   "outputs": [
    {
     "name": "stdout",
     "output_type": "stream",
     "text": [
      "enter n value:8\n",
      "not a prime number\n"
     ]
    }
   ],
   "source": [
    "class prime():\n",
    "    def prime1(self,n):\n",
    "        count=0\n",
    "        for i in range(1,n+1):\n",
    "            if(n%i==0):\n",
    "                count+=1\n",
    "        if(count==2):\n",
    "            return(\"prime number\")\n",
    "        else:\n",
    "            return(\"not a prime number\")\n",
    "b=int(input(\"enter n value:\"))\n",
    "a=prime()\n",
    "print(a.prime1(b))"
   ]
  },
  {
   "cell_type": "code",
   "execution_count": 49,
   "metadata": {},
   "outputs": [
    {
     "name": "stdout",
     "output_type": "stream",
     "text": [
      "enter the value7\n",
      "not a perfect number\n"
     ]
    }
   ],
   "source": [
    "class perfect():\n",
    "    def perfect1(self,n):\n",
    "        sum1=0\n",
    "        for i in range(1,n):\n",
    "            if(n%i==0):\n",
    "                sum1+=i\n",
    "        if(sum1==n):\n",
    "            return(\"perfect number\")\n",
    "        else:\n",
    "            return(\"not a perfect number\")\n",
    "a=perfect()\n",
    "b=int(input(\"enter the value\"))\n",
    "print(a.perfect1(b))"
   ]
  },
  {
   "cell_type": "code",
   "execution_count": 58,
   "metadata": {},
   "outputs": [
    {
     "name": "stdout",
     "output_type": "stream",
     "text": [
      "constructor\n",
      "enter b value:5\n",
      "120\n"
     ]
    }
   ],
   "source": [
    "class construct:\n",
    "    def __init__(self):\n",
    "        print(\"constructor\")\n",
    "    def fact(self,b):\n",
    "        fact1=1\n",
    "        for i in range(1,b+1):\n",
    "            fact1=fact1*i\n",
    "        return fact1\n",
    "n=construct()\n",
    "b=int(input(\"enter b value:\"))\n",
    "print(n.fact(b))"
   ]
  },
  {
   "cell_type": "code",
   "execution_count": 61,
   "metadata": {},
   "outputs": [
    {
     "data": {
      "text/plain": [
       "11"
      ]
     },
     "execution_count": 61,
     "metadata": {},
     "output_type": "execute_result"
    }
   ],
   "source": [
    "class paracons:\n",
    "    def __init__(self,a,b):\n",
    "        self.a=a\n",
    "        self.b=b\n",
    "    def add(self):\n",
    "        return self.a+self.b\n",
    "pc=paracons(10,1)\n",
    "pc.add()"
   ]
  },
  {
   "cell_type": "code",
   "execution_count": 64,
   "metadata": {},
   "outputs": [
    {
     "name": "stdout",
     "output_type": "stream",
     "text": [
      "from second constructor\n"
     ]
    }
   ],
   "source": [
    "class multicons():\n",
    "    def __init__(self):\n",
    "        print(\"from first constructor\")\n",
    "    def __init__(self):\n",
    "        print(\"from second constructor\")\n",
    "m=multicons()"
   ]
  },
  {
   "cell_type": "markdown",
   "metadata": {},
   "source": [
    "### Inheritance\n",
    "* Single Level\n",
    "* Multi Level\n",
    "* Multiple\n",
    "* Hierarchial"
   ]
  },
  {
   "cell_type": "code",
   "execution_count": 74,
   "metadata": {},
   "outputs": [
    {
     "name": "stdout",
     "output_type": "stream",
     "text": [
      "from child class\n",
      "from parent class\n"
     ]
    }
   ],
   "source": [
    "#single inehritance\n",
    "class A():\n",
    "    a=1\n",
    "    def ca():\n",
    "        return(\"from parent class\")\n",
    "class B(A):\n",
    "    b=2\n",
    "    def cb():\n",
    "        return(\"from child class\")\n",
    "obj=B\n",
    "print(obj.cb())\n",
    "print(obj.ca())"
   ]
  },
  {
   "cell_type": "code",
   "execution_count": 84,
   "metadata": {},
   "outputs": [
    {
     "name": "stdout",
     "output_type": "stream",
     "text": [
      "from parent class\n",
      "from child class\n",
      "from class c\n"
     ]
    }
   ],
   "source": [
    "#multi level\n",
    "class A():\n",
    "    a=1\n",
    "    def ca():\n",
    "        return (\"from parent class\")\n",
    "class B(A):\n",
    "    b=2\n",
    "    def cb():\n",
    "        return(\"from child class\")\n",
    "class C(B):\n",
    "    c=2\n",
    "    def cc():\n",
    "        return(\"from class c\")\n",
    "obj=C\n",
    "print(obj.ca())\n",
    "print(obj.cb())\n",
    "print(obj.cc())"
   ]
  },
  {
   "cell_type": "code",
   "execution_count": 85,
   "metadata": {},
   "outputs": [
    {
     "name": "stdout",
     "output_type": "stream",
     "text": [
      "from parent class\n",
      "from child class\n",
      "from class c\n"
     ]
    }
   ],
   "source": [
    "# multiple\n",
    "class A():\n",
    "    a=1\n",
    "    def ca():\n",
    "        return (\"from parent class\")\n",
    "class B():\n",
    "    b=2\n",
    "    def cb():\n",
    "        return(\"from child class\")\n",
    "class C(A,B):\n",
    "    c=2\n",
    "    def cc():\n",
    "        return(\"from class c\")\n",
    "obj=C\n",
    "print(obj.ca())\n",
    "print(obj.cb())\n",
    "print(obj.cc())"
   ]
  },
  {
   "cell_type": "code",
   "execution_count": 86,
   "metadata": {},
   "outputs": [
    {
     "name": "stdout",
     "output_type": "stream",
     "text": [
      "from parent class\n",
      "from class c\n"
     ]
    }
   ],
   "source": [
    "# hierarchial\n",
    "class A():\n",
    "    a=1\n",
    "    def ca():\n",
    "        return (\"from parent class\")\n",
    "class B(A):\n",
    "    b=2\n",
    "    def cb():\n",
    "        return(\"from child class\")\n",
    "class C(A):\n",
    "    c=2\n",
    "    def cc():\n",
    "        return(\"from class c\")\n",
    "obj=C\n",
    "print(obj.ca())\n",
    "print(obj.cc())"
   ]
  },
  {
   "cell_type": "code",
   "execution_count": 88,
   "metadata": {},
   "outputs": [
    {
     "data": {
      "text/plain": [
       "15"
      ]
     },
     "execution_count": 88,
     "metadata": {},
     "output_type": "execute_result"
    }
   ],
   "source": [
    "from package.module import mymath\n",
    "ob=mymath(7,8)\n",
    "ob.add()"
   ]
  },
  {
   "cell_type": "code",
   "execution_count": null,
   "metadata": {},
   "outputs": [],
   "source": []
  }
 ],
 "metadata": {
  "kernelspec": {
   "display_name": "Python 3",
   "language": "python",
   "name": "python3"
  },
  "language_info": {
   "codemirror_mode": {
    "name": "ipython",
    "version": 3
   },
   "file_extension": ".py",
   "mimetype": "text/x-python",
   "name": "python",
   "nbconvert_exporter": "python",
   "pygments_lexer": "ipython3",
   "version": "3.8.5"
  }
 },
 "nbformat": 4,
 "nbformat_minor": 4
}
