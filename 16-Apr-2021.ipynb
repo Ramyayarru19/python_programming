{
 "cells": [
  {
   "cell_type": "markdown",
   "metadata": {},
   "source": [
    "### Loops\n"
   ]
  },
  {
   "cell_type": "markdown",
   "metadata": {},
   "source": [
    "* **For Loop**\n",
    "              syntax: for var_name in range(lower,upper+1,step count)://statements---> int\n",
    "                      for var_name in variable_name://statements--->string\n",
    "* **While Loop**\n",
    "              syntax: while(condition)://statements"
   ]
  },
  {
   "cell_type": "markdown",
   "metadata": {},
   "source": [
    "### For Loop"
   ]
  },
  {
   "cell_type": "code",
   "execution_count": 1,
   "metadata": {},
   "outputs": [
    {
     "name": "stdout",
     "output_type": "stream",
     "text": [
      "0\n",
      "1\n",
      "2\n",
      "3\n",
      "4\n",
      "5\n",
      "6\n",
      "7\n",
      "8\n",
      "9\n"
     ]
    }
   ],
   "source": [
    "#print numbers(single parameter)\n",
    "for i in range(10):\n",
    "    print(i)"
   ]
  },
  {
   "cell_type": "code",
   "execution_count": 2,
   "metadata": {},
   "outputs": [
    {
     "name": "stdout",
     "output_type": "stream",
     "text": [
      "1\n",
      "2\n",
      "3\n",
      "4\n",
      "5\n",
      "6\n",
      "7\n",
      "8\n",
      "9\n",
      "10\n"
     ]
    }
   ],
   "source": [
    "#print numbers(two parametrs)\n",
    "for i in range(1,11):\n",
    "    print(i)"
   ]
  },
  {
   "cell_type": "code",
   "execution_count": 4,
   "metadata": {},
   "outputs": [
    {
     "name": "stdout",
     "output_type": "stream",
     "text": [
      "1\n",
      "3\n",
      "5\n",
      "7\n",
      "9\n"
     ]
    }
   ],
   "source": [
    "#print numbers(with step count)\n",
    "for i in range(1,11,2):\n",
    "              print(i)"
   ]
  },
  {
   "cell_type": "code",
   "execution_count": 11,
   "metadata": {},
   "outputs": [
    {
     "name": "stdout",
     "output_type": "stream",
     "text": [
      "enter a value:1\n",
      "enter b value:10\n",
      "2 4 6 8 10 "
     ]
    }
   ],
   "source": [
    "#print even numbers in given range\n",
    "a=int(input(\"enter a value:\"))\n",
    "b=int(input(\"enter b value:\"))\n",
    "for i in range(a,b+1):\n",
    "    if(i%2==0):\n",
    "        print(i,end=' ')"
   ]
  },
  {
   "cell_type": "code",
   "execution_count": 14,
   "metadata": {},
   "outputs": [
    {
     "name": "stdout",
     "output_type": "stream",
     "text": [
      "0 2 4 6 8 10 "
     ]
    }
   ],
   "source": [
    "#print even number susing step count\n",
    "for i in range(0,11,2):\n",
    "    print(i,end=' ')"
   ]
  },
  {
   "cell_type": "code",
   "execution_count": 20,
   "metadata": {},
   "outputs": [
    {
     "name": "stdout",
     "output_type": "stream",
     "text": [
      "enter n value:10\n",
      "1 2 3 4 5 6 7 8 9 \n",
      "\n",
      "4.5\n"
     ]
    }
   ],
   "source": [
    "#print n natural numbers and average of those natural numbers\n",
    "n=int(input(\"enter n value:\"))\n",
    "sum1=0\n",
    "for i in range(1,n):\n",
    "    print(i,end=' ')\n",
    "    sum1=sum1+i\n",
    "print(\"\\n\")\n",
    "average=sum1/n\n",
    "print(average)"
   ]
  },
  {
   "cell_type": "code",
   "execution_count": 27,
   "metadata": {},
   "outputs": [
    {
     "name": "stdout",
     "output_type": "stream",
     "text": [
      "enter a value:5\n",
      "enter b value:7\n",
      "sum= 18\n",
      "\n",
      "\n",
      "average= 6.0\n"
     ]
    }
   ],
   "source": [
    "#print sum and average of numbers in given range\n",
    "a=int(input(\"enter a value:\"))\n",
    "b=int(input(\"enter b value:\"))\n",
    "sum1=0\n",
    "count=0\n",
    "for i in range(a,b+1):\n",
    "    count=count+1\n",
    "    sum1=sum1+i\n",
    "print(\"sum=\",sum1)\n",
    "print(\"\\n\")\n",
    "average=sum1/(count)\n",
    "print(\"average=\",average)"
   ]
  },
  {
   "cell_type": "code",
   "execution_count": 32,
   "metadata": {},
   "outputs": [
    {
     "name": "stdout",
     "output_type": "stream",
     "text": [
      "enter a value:1\n",
      "enter b value:3\n",
      "sum is: 2\n",
      "average is: 1.0\n"
     ]
    }
   ],
   "source": [
    "#print sum and average of even numbers in a given range\n",
    "a=int(input(\"enter a value:\"))\n",
    "b=int(input(\"enter b value:\"))\n",
    "sum1=0\n",
    "count=0\n",
    "for i in range(a,b+1):\n",
    "    if(i%2==0):\n",
    "        count=count+i\n",
    "        sum1=sum1+i\n",
    "print(\"sum is:\",sum1)\n",
    "average=sum1/count\n",
    "print(\"average is:\",average)"
   ]
  },
  {
   "cell_type": "code",
   "execution_count": 40,
   "metadata": {},
   "outputs": [
    {
     "name": "stdout",
     "output_type": "stream",
     "text": [
      "2\n",
      "6\n",
      "sum is: 14\n",
      "average is: 1.0\n"
     ]
    }
   ],
   "source": [
    "#print sum and average of numbers in given range by taking input as strings \n",
    "a=input()\n",
    "b=input()\n",
    "sum1=0\n",
    "count=0\n",
    "for i in range(int(a),int(b)):\n",
    "        count=count+i\n",
    "        sum1=sum1+i\n",
    "print(\"sum is:\",sum1)\n",
    "average=sum1/count\n",
    "print(\"average is:\",average)"
   ]
  },
  {
   "cell_type": "code",
   "execution_count": 48,
   "metadata": {},
   "outputs": [
    {
     "name": "stdout",
     "output_type": "stream",
     "text": [
      "enter n value:5\n",
      "factorial is: 120\n"
     ]
    }
   ],
   "source": [
    "#print factorial of a number\n",
    "n=int(input(\"enter n value:\"))\n",
    "fact=1\n",
    "for i in range(1,n+1):\n",
    "    fact=fact*i\n",
    "print(\"factorial is:\",fact)"
   ]
  },
  {
   "cell_type": "code",
   "execution_count": 62,
   "metadata": {},
   "outputs": [
    {
     "name": "stdout",
     "output_type": "stream",
     "text": [
      "enter n value:23\n",
      "23 is a prime number\n"
     ]
    }
   ],
   "source": [
    "#program to check given numberis prime number or not\n",
    "n=int(input(\"enter n value:\"))\n",
    "factor_count=0\n",
    "for i in range(1,n+1):\n",
    "    if(n%i==0):\n",
    "        factor_count=factor_count+1\n",
    "if(factor_count==2):\n",
    "    print(n,\"is a prime number\")\n",
    "else:\n",
    "    print(n,\"is not a prime number\")"
   ]
  },
  {
   "cell_type": "code",
   "execution_count": 65,
   "metadata": {},
   "outputs": [
    {
     "name": "stdout",
     "output_type": "stream",
     "text": [
      "enter n value:7\n",
      "7 is not a perfect number\n"
     ]
    }
   ],
   "source": [
    "#program to check the given number is perfect number or not\n",
    "n=int(input(\"enter n value:\"))\n",
    "sum1=0\n",
    "for i in range(1,n):\n",
    "    if(n%i==0):\n",
    "        sum1=sum1+i\n",
    "if(sum1==n):\n",
    "    print(n,\"is a perfect number\")\n",
    "else:\n",
    "    print(n,\"is not a perfect number\")"
   ]
  },
  {
   "cell_type": "code",
   "execution_count": 68,
   "metadata": {},
   "outputs": [
    {
     "name": "stdout",
     "output_type": "stream",
     "text": [
      "enter n value:8\n",
      "8 is not a perfect number\n"
     ]
    }
   ],
   "source": [
    "#program to check if the number is even number check it is perfect number or not and if it is odd number find factorial\n",
    "n=int(input(\"enter n value:\"))\n",
    "fact=1\n",
    "sum1=0\n",
    "if(n%2==0):\n",
    "    for i in range(1,n):\n",
    "        if(n%i==0):\n",
    "            sum1=sum1+i\n",
    "    if(sum1==n):\n",
    "        print(n,\"is a perfect number\")\n",
    "    else:\n",
    "        print(n,\"is not a perfect number\")\n",
    "else:\n",
    "    for i in range(1,n+1):\n",
    "        fact=fact*i\n",
    "    print(\"factorial is:\",fact)"
   ]
  },
  {
   "cell_type": "code",
   "execution_count": 72,
   "metadata": {},
   "outputs": [
    {
     "name": "stdout",
     "output_type": "stream",
     "text": [
      "enter n value:4\n",
      "4 * 1 = 4\n",
      "4 * 2 = 8\n",
      "4 * 3 = 12\n",
      "4 * 4 = 16\n",
      "4 * 5 = 20\n",
      "4 * 6 = 24\n",
      "4 * 7 = 28\n",
      "4 * 8 = 32\n",
      "4 * 9 = 36\n",
      "4 * 10 = 40\n"
     ]
    }
   ],
   "source": [
    "#program to print multiplication table\n",
    "n=int(input(\"enter n value:\"))\n",
    "for i in range(1,11):\n",
    "      print(n,\"*\",i,\"=\",n*i)"
   ]
  },
  {
   "cell_type": "code",
   "execution_count": 75,
   "metadata": {},
   "outputs": [
    {
     "name": "stdout",
     "output_type": "stream",
     "text": [
      "enter n value:2\n",
      "1 * 1 = 1\n",
      "1 * 2 = 2\n",
      "1 * 3 = 3\n",
      "1 * 4 = 4\n",
      "1 * 5 = 5\n",
      "1 * 6 = 6\n",
      "1 * 7 = 7\n",
      "1 * 8 = 8\n",
      "1 * 9 = 9\n",
      "1 * 10 = 10\n",
      "\n",
      "\n",
      "2 * 1 = 2\n",
      "2 * 2 = 4\n",
      "2 * 3 = 6\n",
      "2 * 4 = 8\n",
      "2 * 5 = 10\n",
      "2 * 6 = 12\n",
      "2 * 7 = 14\n",
      "2 * 8 = 16\n",
      "2 * 9 = 18\n",
      "2 * 10 = 20\n",
      "\n",
      "\n"
     ]
    }
   ],
   "source": [
    "#program to print multiple mutliplication tables\n",
    "n=int(input(\"enter n value:\"))\n",
    "for i in range(1,n+1):\n",
    "    for j in range (1,11):\n",
    "        print(i,\"*\",j,\"=\",i*j)\n",
    "    print(\"\\n\")"
   ]
  },
  {
   "cell_type": "markdown",
   "metadata": {},
   "source": [
    "### Jump statements\n",
    "* **Break**\n",
    "* **Continue**"
   ]
  },
  {
   "cell_type": "code",
   "execution_count": 76,
   "metadata": {},
   "outputs": [
    {
     "name": "stdout",
     "output_type": "stream",
     "text": [
      "enter n value:7\n",
      "1 2 3 4 "
     ]
    }
   ],
   "source": [
    "#program to deefine break statement\n",
    "n=int(input(\"enter n value:\"))\n",
    "for i in range(1,n+1):\n",
    "    if(i==5):\n",
    "        break\n",
    "    print(i,end=\" \")"
   ]
  },
  {
   "cell_type": "code",
   "execution_count": 77,
   "metadata": {},
   "outputs": [
    {
     "name": "stdout",
     "output_type": "stream",
     "text": [
      "enter n value:7\n",
      "1 2 3 4 6 7 "
     ]
    }
   ],
   "source": [
    "#program to define continue statement\n",
    "n=int(input(\"enter n value:\"))\n",
    "for i in range(1,n+1):\n",
    "    if(i==5):\n",
    "        continue\n",
    "    print(i,end=\" \")"
   ]
  },
  {
   "cell_type": "markdown",
   "metadata": {},
   "source": [
    "### For Loop using Strings"
   ]
  },
  {
   "cell_type": "code",
   "execution_count": 87,
   "metadata": {},
   "outputs": [
    {
     "name": "stdout",
     "output_type": "stream",
     "text": [
      "ramya\n",
      "r a m y a "
     ]
    }
   ],
   "source": [
    "#with string values\n",
    "name=input()\n",
    "for i in name:\n",
    "    print(i,end=' ')"
   ]
  },
  {
   "cell_type": "markdown",
   "metadata": {},
   "source": [
    "### ASCII Values\n",
    "* **ord()--->parameter is string(charecter)\n",
    "* **chr()--->calculating charecter from the ascii value"
   ]
  },
  {
   "cell_type": "code",
   "execution_count": 92,
   "metadata": {},
   "outputs": [
    {
     "name": "stdout",
     "output_type": "stream",
     "text": [
      "97\n",
      "65\n",
      "52\n"
     ]
    }
   ],
   "source": [
    "#calculating ascii value from charecter\n",
    "print(ord('a'))\n",
    "print(ord('A'))\n",
    "print(ord('4'))"
   ]
  },
  {
   "cell_type": "code",
   "execution_count": 94,
   "metadata": {},
   "outputs": [
    {
     "name": "stdout",
     "output_type": "stream",
     "text": [
      "a\n",
      "A\n",
      "4\n"
     ]
    }
   ],
   "source": [
    "#getting charecter from ascii values\n",
    "print(chr(97))\n",
    "print(chr(65))\n",
    "print(chr(52))"
   ]
  },
  {
   "cell_type": "code",
   "execution_count": 93,
   "metadata": {},
   "outputs": [
    {
     "name": "stdout",
     "output_type": "stream",
     "text": [
      "ramya\n",
      "114\n",
      "97\n",
      "109\n",
      "121\n",
      "97\n"
     ]
    }
   ],
   "source": [
    "#print ascii value of a charecter from given string\n",
    "name=input()\n",
    "for i in name:\n",
    "    print(ord(i))"
   ]
  },
  {
   "cell_type": "code",
   "execution_count": 118,
   "metadata": {},
   "outputs": [
    {
     "name": "stdout",
     "output_type": "stream",
     "text": [
      "ramya\n",
      "114\n"
     ]
    }
   ],
   "source": [
    "#printing even ascii values of given string\n",
    "name=input()\n",
    "for i in name:\n",
    "    if(ord(i)%2==0):\n",
    "        print(ord(i))"
   ]
  },
  {
   "cell_type": "code",
   "execution_count": 113,
   "metadata": {},
   "outputs": [
    {
     "name": "stdout",
     "output_type": "stream",
     "text": [
      "ramya\n",
      "r h  ¢ h "
     ]
    }
   ],
   "source": [
    "#print ascii value of a charecter in string if even else do mathematical operation after that convert it in to charecter\n",
    "name=input()\n",
    "for i in name:\n",
    "    if(ord(i)%2==0):\n",
    "        print(chr(ord(i)),end=' ')\n",
    "    else:\n",
    "        x=ord(i)*ord(i)\n",
    "        a=x//90\n",
    "        print(chr(a),end=' ')"
   ]
  },
  {
   "cell_type": "markdown",
   "metadata": {},
   "source": [
    "### While Loop"
   ]
  },
  {
   "cell_type": "code",
   "execution_count": 123,
   "metadata": {},
   "outputs": [
    {
     "name": "stdout",
     "output_type": "stream",
     "text": [
      "1 2 3 4 5 6 7 8 9 "
     ]
    }
   ],
   "source": [
    "#print numbers using whileloop\n",
    "i=1\n",
    "while(i<10):\n",
    "    print(i,end=' ')\n",
    "    i=i+1\n",
    "    "
   ]
  },
  {
   "cell_type": "code",
   "execution_count": 125,
   "metadata": {},
   "outputs": [
    {
     "name": "stdout",
     "output_type": "stream",
     "text": [
      "2 4 6 8 10 "
     ]
    }
   ],
   "source": [
    "#print even numbers using whileloop\n",
    "i=1\n",
    "while(i<=10):\n",
    "    if(i%2==0):\n",
    "        print(i,end=' ')\n",
    "    i=i+1\n",
    " "
   ]
  },
  {
   "cell_type": "code",
   "execution_count": 134,
   "metadata": {},
   "outputs": [
    {
     "name": "stdout",
     "output_type": "stream",
     "text": [
      "enter n value:145\n",
      "strong number\n"
     ]
    }
   ],
   "source": [
    "#program to check the number is strong number not\n",
    "def factorial(x):\n",
    "    fact=1\n",
    "    for i in range(1,x+1):\n",
    "        fact=fact*i\n",
    "    return fact\n",
    "n=int(input(\"enter n value:\"))\n",
    "num=n\n",
    "sum1=0\n",
    "while(num>0):\n",
    "    x=num%10\n",
    "    sum1=sum1+factorial(x)\n",
    "    num=num//10\n",
    "if(sum1==n):\n",
    "    print(\"strong number\")\n",
    "else:\n",
    "    print(\"not a strong number\")\n",
    "         "
   ]
  },
  {
   "cell_type": "markdown",
   "metadata": {},
   "source": [
    "### Functions\n",
    "* block of statements/set of statements to perform particular function\n",
    "* block of statements will return the result when function called\n",
    "######  Function contains \n",
    "1.Function decleration\n",
    "2.Function definition\n",
    "3.Function call\n",
    "#### Types of Functions\n",
    "###### Built in Functions\n",
    "     1.max()--->used to get maximum value\n",
    "     2.min()--->used to get minimum value\n",
    "     3.sum()--->used to calculate sum\n",
    "     4.len()--->used to calculated lenth of strings\n",
    "     5.ord()--->to get ascii values\n",
    "     6.chr()--->to get cahrecters from ascii values\n",
    "     7.abs()--->used to get absolute(positive) values\n",
    "* **User Defined**\n",
    "* It is a function which is defined by the user to perform particular task\n",
    "* **Types of User Defined Functions**\n",
    "           1.required argument\n",
    "           2.default arguement\n",
    "           3.keyword arguement\n",
    "           4.variable length\n",
    "###### Syntax\n",
    "      def Function_name(arg):\n",
    "            //body of Function\n",
    "      Function call"
   ]
  },
  {
   "cell_type": "code",
   "execution_count": 136,
   "metadata": {},
   "outputs": [
    {
     "name": "stdout",
     "output_type": "stream",
     "text": [
      "ramya\n",
      "welcome to VIGNAN'S LARA  ramya\n"
     ]
    }
   ],
   "source": [
    "#program to define functions\n",
    "name=input()\n",
    "def sample():\n",
    "    print(\"welcome to VIGNAN'S LARA \",name)\n",
    "sample()"
   ]
  },
  {
   "cell_type": "markdown",
   "metadata": {},
   "source": [
    "### Local Variables"
   ]
  },
  {
   "cell_type": "code",
   "execution_count": 137,
   "metadata": {},
   "outputs": [
    {
     "name": "stdout",
     "output_type": "stream",
     "text": [
      "2\n",
      "4\n",
      "2 4\n"
     ]
    }
   ],
   "source": [
    "#program to define local variable\n",
    "def local():\n",
    "    n=int(input())\n",
    "    n1=int(input())\n",
    "    print(n,n1)\n",
    "local()"
   ]
  },
  {
   "cell_type": "markdown",
   "metadata": {},
   "source": [
    "### Global Variables"
   ]
  },
  {
   "cell_type": "code",
   "execution_count": 139,
   "metadata": {},
   "outputs": [
    {
     "name": "stdout",
     "output_type": "stream",
     "text": [
      "2\n",
      "3\n",
      "2 , 3\n",
      "2 , 3\n"
     ]
    }
   ],
   "source": [
    "#program to define global variables\n",
    "n=int(input())\n",
    "n1=int(input())\n",
    "def local():\n",
    "    print(n,\",\",n1)\n",
    "local()\n",
    "print(n,\",\",n1)"
   ]
  },
  {
   "cell_type": "code",
   "execution_count": 152,
   "metadata": {},
   "outputs": [
    {
     "name": "stdout",
     "output_type": "stream",
     "text": [
      "enter a value:4\n",
      "4 is not a perfect number\n"
     ]
    }
   ],
   "source": [
    "def factorial(x):\n",
    "    fact=1\n",
    "    for i in range(1,x+1):\n",
    "        fact=fact*i\n",
    "    print(fact)\n",
    "def perfect_number(n):\n",
    "    sum1=0\n",
    "    for i in range(1,n):\n",
    "        if(n%i==0):\n",
    "            sum1=sum1+i\n",
    "    if(sum1==n):\n",
    "        print(n,\"is a perfect number\")\n",
    "    else:\n",
    "        print(n,\"is not a perfect number\")\n",
    "a=int(input(\"enter a value:\"))\n",
    "if(a%2==0):\n",
    "    perfect_number(a)\n",
    "else:\n",
    "    factorial(a)\n",
    "    \n",
    "    "
   ]
  },
  {
   "cell_type": "markdown",
   "metadata": {},
   "source": [
    "### Required Arguements"
   ]
  },
  {
   "cell_type": "code",
   "execution_count": 154,
   "metadata": {},
   "outputs": [
    {
     "name": "stdout",
     "output_type": "stream",
     "text": [
      "name is: python\n",
      "organization is: vignan\n",
      "phone number is: 6304307785\n"
     ]
    }
   ],
   "source": [
    "#program to define functions with required arguements\n",
    "def Required(name,org,phn):\n",
    "    print(\"name is:\",name)\n",
    "    print(\"organization is:\",org)\n",
    "    print(\"phone number is:\",phn)\n",
    "Required('python','vignan',6304307785)"
   ]
  },
  {
   "cell_type": "markdown",
   "metadata": {},
   "source": [
    "### Default Arguements"
   ]
  },
  {
   "cell_type": "code",
   "execution_count": 157,
   "metadata": {},
   "outputs": [
    {
     "name": "stdout",
     "output_type": "stream",
     "text": [
      "addition: 15\n",
      "multilication: 60\n",
      "addition: 9\n",
      "multilication: 24\n"
     ]
    }
   ],
   "source": [
    "#program to define functions with default arguements\n",
    "def Default(a,b,c=10):\n",
    "    print(\"addition:\",a+b+c)\n",
    "    print(\"multilication:\",a*b*c)\n",
    "Default(3,2)\n",
    "Default(2,3,4)"
   ]
  },
  {
   "cell_type": "markdown",
   "metadata": {},
   "source": [
    "### Keyword Arguements"
   ]
  },
  {
   "cell_type": "code",
   "execution_count": 162,
   "metadata": {},
   "outputs": [
    {
     "name": "stdout",
     "output_type": "stream",
     "text": [
      "name: RamyaYarru\n",
      "user_name Ramya@19\n"
     ]
    }
   ],
   "source": [
    "#program to define functions with keyword arguemnets\n",
    "def Keyword(fname,lname,uname):\n",
    "    print(\"name:\",fname+lname)\n",
    "    print(\"user_name\",uname)\n",
    "Keyword(uname='Ramya@19',fname='Ramya',lname='Yarru')\n"
   ]
  },
  {
   "cell_type": "markdown",
   "metadata": {},
   "source": [
    "### Variable Length Arguements"
   ]
  },
  {
   "cell_type": "code",
   "execution_count": 1,
   "metadata": {},
   "outputs": [
    {
     "name": "stdout",
     "output_type": "stream",
     "text": [
      "10\n",
      "python\n",
      "online\n",
      "program\n",
      "20\n",
      "89.5\n"
     ]
    }
   ],
   "source": [
    "#variable length\n",
    "def varlen(num,*args):\n",
    "    num=10\n",
    "    print(num)\n",
    "    for a in args:\n",
    "        print(a)\n",
    "varlen(10,'python','online','program',20,89.5)"
   ]
  },
  {
   "cell_type": "code",
   "execution_count": null,
   "metadata": {},
   "outputs": [],
   "source": []
  }
 ],
 "metadata": {
  "kernelspec": {
   "display_name": "Python 3",
   "language": "python",
   "name": "python3"
  },
  "language_info": {
   "codemirror_mode": {
    "name": "ipython",
    "version": 3
   },
   "file_extension": ".py",
   "mimetype": "text/x-python",
   "name": "python",
   "nbconvert_exporter": "python",
   "pygments_lexer": "ipython3",
   "version": "3.8.5"
  }
 },
 "nbformat": 4,
 "nbformat_minor": 4
}
